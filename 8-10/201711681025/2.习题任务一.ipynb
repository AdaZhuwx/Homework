{
 "cells": [
  {
   "cell_type": "code",
   "execution_count": 2,
   "metadata": {},
   "outputs": [
    {
     "name": "stdout",
     "output_type": "stream",
     "text": [
      "请输入你的姓名，以回车结束。1\n",
      "你好 1\n",
      "请输入一个正整数，以回车结束。2\n",
      "请输入一个正整数，以回车结束。3\n",
      "两个数的和是： 5\n",
      "再见！ 1\n"
     ]
    }
   ],
   "source": [
    "#实践1：键入如下代码并观察执行结果。\n",
    "name = input('请输入你的姓名，以回车结束。')\n",
    "print('你好', name)\n",
    "\n",
    "n = int(input('请输入一个正整数，以回车结束。'))\n",
    "m = int(input('请输入一个正整数，以回车结束。'))\n",
    "\n",
    "print('两个数的和是：', m+n)\n",
    "print('再见！', name)"
   ]
  },
  {
   "cell_type": "markdown",
   "metadata": {},
   "source": [
    "\n",
    "\n",
    "- 2：仿照实践1，写出由用户指定整数个数，并由用户输入多个整数，并求和的代码。\n",
    "- 3：用户可以输入的任意多个数字，直到用户不想输入为止。\n",
    "- 4：用户可以输入的任意多个数字，直到: 输入所有数字的和比当前输入数字小，且输入所有数字的积大于500。\n"
   ]
  },
  {
   "cell_type": "markdown",
   "metadata": {},
   "source": [
    "- 练习 1：写程序，可由键盘读入用户姓名例如Mr. right，让用户输入出生的月份与日期，判断用户星座，假设用户是金牛座，则输出，Mr. right，你是非常有性格的金牛座！。\n",
    "- 练习 2：写程序，可由键盘读入两个整数m与n(n不等于0)，询问用户意图，如果要求和则计算从m到n的和输出，如果要乘积则计算从m到n的积并输出，如果要求余数则计算m除以n的余数的值并输出，否则则计算m整除n的值并输出。\n",
    "- 练习 3：写程序，能够根据北京雾霾PM2.5数值给出对应的防护建议。如当PM2.5数值大于500，则应该打开空气净化器，戴防雾霾口罩等。\n",
    "- 练习 4：英文单词单数转复数，要求输入一个英文动词（单数形式），能够得到其复数形式，或给出单数转复数形式的建议（提示，some_string.endswith(some_letter)函数可以判断某字符串结尾字符，可尝试运行：'myname'.endswith('me')，liupengyuan'.endswith('n')）。\n",
    "- 尝试性练习：写程序，能够在屏幕上显示空行。\n",
    "- 挑战性练习：写程序，由用户输入一些整数，能够得到几个整数中的次大值(第二大的值)并输出。"
   ]
  },
  {
   "cell_type": "code",
   "execution_count": 1,
   "metadata": {},
   "outputs": [
    {
     "name": "stdout",
     "output_type": "stream",
     "text": [
      "请输入您想输入的整数的个数，并以回车结束2\n",
      "请输入一个数字，以回车结束5\n",
      "请输入一个数字，以回车结束6\n",
      "11\n"
     ]
    }
   ],
   "source": [
    "#2：仿照实践1，写出由用户指定整数个数，并由用户输入多个整数，并求和的代码。\n",
    "\n",
    "number=int(input('请输入您想输入的整数的个数，并以回车结束'))\n",
    "\n",
    "i=0\n",
    "sum=0\n",
    "\n",
    "while 1:\n",
    "    if i>=number:\n",
    "        break\n",
    "    else:\n",
    "        n=int(input('请输入一个数字，以回车结束'))\n",
    "        i+=1\n",
    "        sum+=n\n",
    "        \n",
    "        \n",
    "print(sum)"
   ]
  },
  {
   "cell_type": "code",
   "execution_count": 5,
   "metadata": {},
   "outputs": [
    {
     "name": "stdout",
     "output_type": "stream",
     "text": [
      "请输入您想输入的数字，如果不想输入，请输入字母q,并以回车结束2\n",
      "2\n",
      "请输入您想输入的数字，如果不想输入，请输入字母q,并以回车结束5\n",
      "5\n",
      "请输入您想输入的数字，如果不想输入，请输入字母q,并以回车结束6\n",
      "6\n",
      "请输入您想输入的数字，如果不想输入，请输入字母q,并以回车结束q\n",
      "不再想输入数字！\n"
     ]
    }
   ],
   "source": [
    "#3：用户可以输入的任意多个数字，直到用户不想输入为止。\n",
    "\n",
    "while 1:\n",
    "    n=input('请输入您想输入的数字，如果不想输入，请输入字母q,并以回车结束')\n",
    "    \n",
    "    if n=='q':\n",
    "        print('不再想输入数字！')\n",
    "        \n",
    "        break\n",
    "        \n",
    "    else:\n",
    "        print(n)\n",
    "        \n",
    "    "
   ]
  },
  {
   "cell_type": "code",
   "execution_count": 11,
   "metadata": {},
   "outputs": [
    {
     "name": "stdout",
     "output_type": "stream",
     "text": [
      "请输入一个数字，以回车结束3\n",
      "请输入一个数字，以回车结束5\n",
      "出错啦！\n"
     ]
    }
   ],
   "source": [
    "#4：用户可以输入的任意多个数字，直到: 输入所有数字的和比当前输入数字小，且输入所有数字的积大于500。\n",
    "\n",
    "n=0\n",
    "sum=0\n",
    "total=1\n",
    "\n",
    "while n>=sum and total<=500:\n",
    "    n=int(input('请输入一个数字，以回车结束'))\n",
    "    sum=sum+n\n",
    "    total*=n\n",
    "    \n",
    "else:\n",
    "    print('出错啦！')"
   ]
  },
  {
   "cell_type": "markdown",
   "metadata": {},
   "source": [
    "#练习 1：写程序，可由键盘读入用户姓名例如Mr. right，让用户输入出生的月份与日期，判断用户星座，假设用户是金牛座，则输出，Mr. right，你是非常有性格的金牛座！。"
   ]
  },
  {
   "cell_type": "code",
   "execution_count": 13,
   "metadata": {},
   "outputs": [
    {
     "name": "stdout",
     "output_type": "stream",
     "text": [
      "请输入您的名字，以回车结束ada\n",
      "请输入您的生日，格式为1.23，并以回车结束6.17\n",
      "ada 您是非常牛逼的双子座\n"
     ]
    }
   ],
   "source": [
    "name=input('请输入您的名字，以回车结束')\n",
    "date=float(input('请输入您的生日，格式为1.23，并以回车结束'))\n",
    "\n",
    "if 3.21<=date<=4.19:\n",
    "    print(name,'您是温柔可爱的白羊座')\n",
    "    \n",
    "if 4.20<=date<=5.20:\n",
    "    print(name,'您是非常有性格的金牛座')\n",
    "    \n",
    "if 5.21<=date<=6.21:\n",
    "    print(name,'您是非常牛逼的双子座')\n",
    "    \n",
    "if 6.22<=date<7.22:\n",
    "    print(name,'您是非常开朗的巨蟹座')\n",
    "    \n",
    "if 7.23<=date<=8.22:\n",
    "    print(name,'您是非常热情的狮子座')\n",
    "    \n",
    "if 8.23<=date<=9.22:\n",
    "    print(name,'您是非常完美的处女座')\n",
    "    \n",
    "if 9.23<=date<=10.23:\n",
    "    print(name,'您是非常高雅的天秤座')\n",
    "\n",
    "    \n",
    "if 10.24<=date<=11.21:\n",
    "    print(name,'您是非常独立的天蝎座')\n",
    "    \n",
    "if 11.22<=date<=12.21:\n",
    "    print(name,'您是非常活泼的射手座')\n",
    "    \n",
    "if 12.31>=date>=12.22 or 0.00<=date <=1.19:\n",
    "    print(name,'您是非常可靠的摩羯座')\n",
    "    \n",
    "if 1.20<=date<=2.18:\n",
    "    print(name,'您是非常宽容的水瓶座')\n",
    "    \n",
    "if 2.19<=date<=3.20:\n",
    "    print(name,'您是非常善良的双鱼座')\n",
    "    \n",
    "    "
   ]
  },
  {
   "cell_type": "markdown",
   "metadata": {},
   "source": [
    "练习 2：写程序，可由键盘读入两个整数m与n(n不等于0)，询问用户意图，如果要求和则计算从m到n的和输出，如果要乘积则计算从m到n的积并输出，如果要求余数则计算m除以n的余数的值并输出，否则则计算m整除n的值并输出。"
   ]
  },
  {
   "cell_type": "code",
   "execution_count": 6,
   "metadata": {},
   "outputs": [
    {
     "name": "stdout",
     "output_type": "stream",
     "text": [
      "请输入一个整数，以回车结束3\n",
      "请输入一个不为0的整数2\n",
      "请输入您想进行的操作：若想求和，请输入0；若想求乘积，请输入1；若想求余数，请输入2；若想整除，请输入3.并以回车结束。0\n",
      "5\n"
     ]
    }
   ],
   "source": [
    "m=int(input('请输入一个整数，以回车结束'))\n",
    "n=int(input('请输入一个不为0的整数'))\n",
    "i=int(input('请输入您想进行的操作：若想求和，请输入0；若想求乘积，请输入1；若想求余数，请输入2；若想整除，请输入3.并以回车结束。'))\n",
    "\n",
    "total=m\n",
    "produce=n\n",
    "\n",
    "if i==0 and m>n:\n",
    "    \n",
    "    total+=n\n",
    "    n+=1\n",
    "    print(total)\n",
    "        \n",
    "elif i==0 and m<n:\n",
    "    total+=n\n",
    "    m-=1\n",
    "    print(total)\n",
    "        \n",
    "elif i==0 and m==n:\n",
    "    \n",
    "    total=total+n\n",
    "        \n",
    "        \n",
    "    print(total)\n",
    "    \n",
    "elif i==1 and m>n:\n",
    "  \n",
    "    produce*=m\n",
    "    m-=1\n",
    "    print(produce)\n",
    "        \n",
    "elif i==1 and m<n:\n",
    "    produce*=m\n",
    "    m+=1\n",
    "    print(produce)\n",
    "        \n",
    "elif i==1 and m>n:\n",
    "    produce=produce*m\n",
    "        \n",
    "    print(produce)\n",
    "    \n",
    "    \n",
    "elif i==2:\n",
    "    remainder=m%n\n",
    "    print(remainder)\n",
    "    \n",
    "elif i==3:\n",
    "    result=m//n\n",
    "    print(result)\n",
    "    \n",
    "        \n",
    "    \n"
   ]
  },
  {
   "cell_type": "code",
   "execution_count": 7,
   "metadata": {},
   "outputs": [
    {
     "name": "stdout",
     "output_type": "stream",
     "text": [
      "请输入今天的PM2.5指数，以回车结束30\n",
      "今天的PM2.5指数是： 30\n",
      "今天空气质量良好\n"
     ]
    }
   ],
   "source": [
    "#练习 3：写程序，能够根据北京雾霾PM2.5数值给出对应的防护建议。如当PM2.5数值大于500，则应该打开空气净化器，戴防雾霾口罩等。\n",
    "a=int(input('请输入今天的PM2.5指数，以回车结束'))\n",
    "print('今天的PM2.5指数是：',a)\n",
    "\n",
    "if a<=500:\n",
    "    print('今天空气质量良好')\n",
    "    \n",
    "else:\n",
    "    print('今天重度污染，出门记得要戴口罩哦！')\n",
    "    "
   ]
  },
  {
   "cell_type": "markdown",
   "metadata": {},
   "source": [
    "练习 4：英文单词单数转复数，要求输入一个英文动词（单数形式），能够得到其复数形式，或给出单数转复数形式的建议（提示，some_string.endswith(some_letter)函数可以判断某字符串结尾字符，可尝试运行：'myname'.endswith('me')，liupengyuan'.endswith('n')）。"
   ]
  },
  {
   "cell_type": "code",
   "execution_count": 9,
   "metadata": {
    "scrolled": true
   },
   "outputs": [
    {
     "name": "stdout",
     "output_type": "stream",
     "text": [
      "请输入一个英文名词（单数形式），以回车结束car\n",
      "car s\n"
     ]
    }
   ],
   "source": [
    "word=str(input('请输入一个英文名词（单数形式），以回车结束'))\n",
    "if word.endswith('y'):\n",
    "    print(word[0:-1],'ies')\n",
    "    \n",
    "elif word.endswith('f'):\n",
    "    print(word[0:-1],'ves')\n",
    "    \n",
    "elif word.endswith('fe'):\n",
    "    print(word[0:-2],'ves')\n",
    "    \n",
    "else:\n",
    "    print(word,'s')"
   ]
  },
  {
   "cell_type": "markdown",
   "metadata": {},
   "source": [
    "尝试性练习：写程序，能够在屏幕上显示空行。"
   ]
  },
  {
   "cell_type": "code",
   "execution_count": 10,
   "metadata": {},
   "outputs": [
    {
     "name": "stdout",
     "output_type": "stream",
     "text": [
      "\n"
     ]
    }
   ],
   "source": [
    "print('',sep='')"
   ]
  },
  {
   "cell_type": "markdown",
   "metadata": {},
   "source": [
    "挑战性练习：写程序，由用户输入一些整数，能够得到几个整数中的次大值(第二大的值)并输出。"
   ]
  },
  {
   "cell_type": "code",
   "execution_count": 3,
   "metadata": {},
   "outputs": [
    {
     "name": "stdout",
     "output_type": "stream",
     "text": [
      "请输入准备输入的整数的个数，以回车结束4\n",
      "请输入一个整数，以回车结束1\n",
      "请输入一个整数，以回车结束2\n",
      "请输入一个整数，以回车结束3\n",
      "请输入一个整数，以回车结束4\n",
      " [1, 2, 3, 4]\n",
      " 3\n"
     ]
    }
   ],
   "source": [
    "m=int(input('请输入准备输入的整数的个数，以回车结束'))\n",
    "\n",
    "a=[]\n",
    "i=0\n",
    "while i<m:\n",
    "    a.append(int(input('请输入一个整数，以回车结束')))\n",
    "    i=i+1\n",
    "    \n",
    "print('',a)\n",
    "b=a[:]\n",
    "b.sort(reverse=True)\n",
    "print('',b[1])"
   ]
  },
  {
   "cell_type": "code",
   "execution_count": null,
   "metadata": {},
   "outputs": [],
   "source": []
  },
  {
   "cell_type": "code",
   "execution_count": null,
   "metadata": {},
   "outputs": [],
   "source": []
  },
  {
   "cell_type": "code",
   "execution_count": null,
   "metadata": {},
   "outputs": [],
   "source": []
  },
  {
   "cell_type": "code",
   "execution_count": null,
   "metadata": {},
   "outputs": [],
   "source": []
  },
  {
   "cell_type": "code",
   "execution_count": null,
   "metadata": {},
   "outputs": [],
   "source": []
  },
  {
   "cell_type": "code",
   "execution_count": null,
   "metadata": {},
   "outputs": [],
   "source": []
  },
  {
   "cell_type": "code",
   "execution_count": null,
   "metadata": {},
   "outputs": [],
   "source": []
  },
  {
   "cell_type": "code",
   "execution_count": null,
   "metadata": {},
   "outputs": [],
   "source": []
  },
  {
   "cell_type": "code",
   "execution_count": null,
   "metadata": {},
   "outputs": [],
   "source": []
  },
  {
   "cell_type": "code",
   "execution_count": null,
   "metadata": {},
   "outputs": [],
   "source": []
  },
  {
   "cell_type": "code",
   "execution_count": null,
   "metadata": {},
   "outputs": [],
   "source": []
  },
  {
   "cell_type": "code",
   "execution_count": null,
   "metadata": {},
   "outputs": [],
   "source": []
  },
  {
   "cell_type": "code",
   "execution_count": null,
   "metadata": {},
   "outputs": [],
   "source": []
  },
  {
   "cell_type": "code",
   "execution_count": null,
   "metadata": {},
   "outputs": [],
   "source": []
  },
  {
   "cell_type": "code",
   "execution_count": null,
   "metadata": {},
   "outputs": [],
   "source": []
  },
  {
   "cell_type": "code",
   "execution_count": null,
   "metadata": {},
   "outputs": [],
   "source": []
  },
  {
   "cell_type": "code",
   "execution_count": null,
   "metadata": {},
   "outputs": [],
   "source": []
  },
  {
   "cell_type": "code",
   "execution_count": null,
   "metadata": {},
   "outputs": [],
   "source": []
  }
 ],
 "metadata": {
  "kernelspec": {
   "display_name": "Python 3",
   "language": "python",
   "name": "python3"
  },
  "language_info": {
   "codemirror_mode": {
    "name": "ipython",
    "version": 3
   },
   "file_extension": ".py",
   "mimetype": "text/x-python",
   "name": "python",
   "nbconvert_exporter": "python",
   "pygments_lexer": "ipython3",
   "version": "3.6.0"
  }
 },
 "nbformat": 4,
 "nbformat_minor": 2
}
