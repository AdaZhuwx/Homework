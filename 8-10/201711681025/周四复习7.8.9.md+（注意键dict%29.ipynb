{
 "cells": [
  {
   "cell_type": "code",
   "execution_count": 1,
   "metadata": {},
   "outputs": [
    {
     "name": "stdout",
     "output_type": "stream",
     "text": [
      "0.6818467762814059\n",
      "0.6011372777518592\n",
      "0.2846466115794587\n",
      "0.9913535976768264\n",
      "0.45880599470945493\n"
     ]
    }
   ],
   "source": [
    "# random生成浮点数示例\n",
    "import random\n",
    "\n",
    "i=0\n",
    "while i < 5:\n",
    "    n = random.random()\n",
    "    print(n)\n",
    "    i += 1"
   ]
  },
  {
   "cell_type": "code",
   "execution_count": 1,
   "metadata": {},
   "outputs": [
    {
     "name": "stdout",
     "output_type": "stream",
     "text": [
      "\n",
      "天\n",
      "天天\n",
      "天天天\n",
      "天天天天\n",
      "天天天天天\n",
      "天天天天天天\n",
      "天天天天天天天\n",
      "天天天天天天天天\n",
      "天天天天天天天天天\n",
      "天天天天天天天天天天\n",
      "天天天天天天天天天天天\n"
     ]
    }
   ],
   "source": [
    "line = '天天天天天天'\n",
    "for i in range(1, len(line)*2+1):\n",
    "    for j in range(1,i):\n",
    "        print(line[0], end='')\n",
    "    print()"
   ]
  },
  {
   "cell_type": "code",
   "execution_count": 2,
   "metadata": {},
   "outputs": [
    {
     "name": "stdout",
     "output_type": "stream",
     "text": [
      "           \n",
      "          天\n",
      "         天天\n",
      "        天天天\n",
      "       天天天天\n",
      "      天天天天天\n",
      "     天天天天天天\n",
      "    天天天天天天天\n",
      "   天天天天天天天天\n",
      "  天天天天天天天天天\n",
      " 天天天天天天天天天天\n",
      "天天天天天天天天天天天\n"
     ]
    }
   ],
   "source": [
    "line = '天天天天天天'\n",
    "for i in range(1, len(line)*2+1):\n",
    "    for k in range(len(line)*2-i,0,-1):\n",
    "        print(' ', end='')\n",
    "    for j in range(1,i):\n",
    "        print(line[0], end='')\n",
    "    print()"
   ]
  },
  {
   "cell_type": "code",
   "execution_count": 3,
   "metadata": {},
   "outputs": [
    {
     "name": "stdout",
     "output_type": "stream",
     "text": [
      "北京语言言语京北"
     ]
    }
   ],
   "source": [
    "line = '北京语言大学信息科学学院'\n",
    "x = 4\n",
    "sub_line = ''\n",
    "for i in range(x):\n",
    "    sub_line += line[i]\n",
    "print(sub_line, end='')\n",
    "\n",
    "for i in range(x-1, -1, -1):\n",
    "    print(sub_line[i], end='')"
   ]
  },
  {
   "cell_type": "code",
   "execution_count": 4,
   "metadata": {},
   "outputs": [
    {
     "name": "stdout",
     "output_type": "stream",
     "text": [
      "赏\n",
      "赏赏\n",
      "赏花赏\n",
      "赏花花赏\n",
      "赏花归花赏\n",
      "赏花归归花赏\n",
      "赏花归去归花赏\n",
      "赏花归去去归花赏\n",
      "赏花归去马去归花赏\n",
      "赏花归去马马去归花赏\n",
      "赏花归去马如马去归花赏\n",
      "赏花归去马如如马去归花赏\n",
      "赏花归去马如飞如马去归花赏\n"
     ]
    }
   ],
   "source": [
    "line = '赏花归去马如飞'\n",
    "\n",
    "for i in range(1, len(line)*2):\n",
    "    if i == 1:\n",
    "        print(line[0])\n",
    "    elif i%2 == 1:\n",
    "        print(line[:i//2] + line[i//2] + line[i//2-1::-1])\n",
    "    else:\n",
    "        print(line[:i//2] + line[i//2-1::-1])"
   ]
  },
  {
   "cell_type": "code",
   "execution_count": 6,
   "metadata": {},
   "outputs": [
    {
     "name": "stdout",
     "output_type": "stream",
     "text": [
      "             赏\n",
      "            赏赏\n",
      "           赏花赏\n",
      "          赏花花赏\n",
      "         赏花归花赏\n",
      "        赏花归归花赏\n",
      "       赏花归去归花赏\n",
      "      赏花归去去归花赏\n",
      "     赏花归去马去归花赏\n",
      "    赏花归去马马去归花赏\n",
      "   赏花归去马如马去归花赏\n",
      "  赏花归去马如如马去归花赏\n",
      " 赏花归去马如飞如马去归花赏\n"
     ]
    }
   ],
   "source": [
    "#coding: utf-8\n",
    "# 示例代码 30\n",
    "\n",
    "def plalindrome(line):\n",
    "    for i in range(1, len(line)*2):\n",
    "        if i == 1:\n",
    "            print(' '*(len(line)*2-1) +line[0])\n",
    "        elif i%2 == 1:\n",
    "            print(' '*(len(line)*2-i) + line[:i//2] + line[i//2] + line[i//2-1::-1])\n",
    "        else:\n",
    "            print(' '*(len(line)*2-i) + line[:i//2] + line[i//2-1::-1])\n",
    "\n",
    "def main():\n",
    "    text = '赏花归去马如飞'\n",
    "    plalindrome(text)\n",
    "    \n",
    "main()"
   ]
  },
  {
   "cell_type": "code",
   "execution_count": 8,
   "metadata": {},
   "outputs": [
    {
     "name": "stdout",
     "output_type": "stream",
     "text": [
      "赏花归去马如飞飞如马去归花赏\n",
      " 赏花归去马如飞如马去归花赏\n",
      "  赏花归去马如如马去归花赏\n",
      "   赏花归去马如马去归花赏\n",
      "    赏花归去马马去归花赏\n",
      "     赏花归去马去归花赏\n",
      "      赏花归去去归花赏\n",
      "       赏花归去归花赏\n",
      "        赏花归归花赏\n",
      "         赏花归花赏\n",
      "          赏花花赏\n",
      "           赏花赏\n",
      "            赏赏\n"
     ]
    }
   ],
   "source": [
    "def plalindrome(line):\n",
    "    for i in range( len(line)*2,1,-1):\n",
    "        if i == 1:\n",
    "            print(' '*(len(line)*2-1) +line[0])\n",
    "        elif i%2 == 1:\n",
    "            print(' '*(len(line)*2-i) + line[:i//2] + line[i//2] + line[i//2-1::-1])\n",
    "        else:\n",
    "            print(' '*(len(line)*2-i) + line[:i//2] + line[i//2-1::-1])\n",
    "\n",
    "def main():\n",
    "    text = '赏花归去马如飞'\n",
    "    plalindrome(text)\n",
    "    \n",
    "main()"
   ]
  },
  {
   "cell_type": "code",
   "execution_count": 14,
   "metadata": {},
   "outputs": [
    {
     "name": "stdout",
     "output_type": "stream",
     "text": [
      "飞\n",
      "如\n",
      "马\n",
      "去\n",
      "归\n",
      "花\n",
      "赏\n"
     ]
    }
   ],
   "source": [
    "def reverse(s):\n",
    "    \n",
    "    for i in range(0,len(s)):\n",
    "        j=len(s)-i-1\n",
    "        print(s[j])\n",
    "\n",
    "    \n",
    "s='赏花归去马如飞'\n",
    "reverse(s)"
   ]
  },
  {
   "cell_type": "code",
   "execution_count": 20,
   "metadata": {},
   "outputs": [
    {
     "name": "stdout",
     "output_type": "stream",
     "text": [
      "请输入您想打印的三角形的行数6\n",
      "请输入您想用来打印三角形的符号***\n",
      "*\n",
      "**\n",
      "***\n",
      "****\n",
      "*****\n",
      "******\n"
     ]
    }
   ],
   "source": [
    "#打印直角三角形\n",
    "\n",
    "def triangle(m,n):\n",
    "    for i in range(0,m):\n",
    "        for j in range(0,i+1):\n",
    "            print(n[0],end='')\n",
    "        print()\n",
    "            \n",
    "   \n",
    "\n",
    "            \n",
    "            \n",
    "m=int(input('请输入您想打印的三角形的行数'))\n",
    "n=input('请输入您想用来打印三角形的符号')\n",
    "triangle(m,n)"
   ]
  },
  {
   "cell_type": "code",
   "execution_count": 26,
   "metadata": {},
   "outputs": [
    {
     "name": "stdout",
     "output_type": "stream",
     "text": [
      "请输入您想用来打印三角形的行数6\n",
      "     *\n",
      "    ***\n",
      "   *****\n",
      "  *******\n",
      " *********\n",
      "***********\n"
     ]
    }
   ],
   "source": [
    "#打印等腰三角形\n",
    "!!!#等腰三角形\n",
    "def triangle(s):\n",
    "    t=int(input('请输入您想用来打印三角形的行数'))\n",
    "    for i in range(1, t+1):#一共有几行 打印t行要写t+1\n",
    "        for k in range(t-i,0,-1):\n",
    "            print(' ', end='')#打印每行前段的空格\n",
    "        for j in range(1,i*2):#打印每行的符号\n",
    "            print(s[0], end='')\n",
    "        print()\n",
    "triangle(\"*\")"
   ]
  },
  {
   "cell_type": "code",
   "execution_count": 2,
   "metadata": {},
   "outputs": [
    {
     "name": "stdout",
     "output_type": "stream",
     "text": [
      "请输入您想打印的三角形的行数6\n",
      "     *\n",
      "    ***\n",
      "   *****\n",
      "  *******\n",
      " *********\n",
      "***********\n"
     ]
    }
   ],
   "source": [
    "#打印等腰三角形 第二弹\n",
    "def triangle(s):\n",
    "    k=int(input('请输入您想打印的三角形的行数'))\n",
    "    for i in range(1,k+1):\n",
    "        for j in range(k-i,0,-1):\n",
    "            print(' ',end='')\n",
    "            \n",
    "        for t in range(1,2*i):\n",
    "            print(s[0],end='')\n",
    "            \n",
    "        print()\n",
    "            \n",
    "\n",
    "triangle('*')"
   ]
  },
  {
   "cell_type": "code",
   "execution_count": 10,
   "metadata": {},
   "outputs": [
    {
     "name": "stdout",
     "output_type": "stream",
     "text": [
      "请输入您想用来打印梯形的符号，以回车结束*\n",
      "请输入您想打印的梯形的行数，以回车结束 6\n",
      "      \n",
      "     *\n",
      "    ***\n",
      "   *****\n",
      "  *******\n",
      " *********\n",
      "***********\n",
      " *********\n",
      "  *******\n",
      "   *****\n",
      "    ***\n",
      "     *\n",
      "\n"
     ]
    }
   ],
   "source": [
    "#打印各种菱形\n",
    "def tri(m,n):\n",
    "    for i in range(0, n):\n",
    "        for j in range(0,n-i):           \n",
    "            print(' ',end='')\n",
    "        for k in range(0,2*i-1):\n",
    "            print (m,end='')\n",
    "        print()\n",
    "    for i in range(n,0,-1):\n",
    "        for j in range(0,n-i):           \n",
    "            print(' ',end='')\n",
    "        for k in range(0,2*i-1):\n",
    "            print (m,end='')\n",
    "        print()\n",
    "def main():\n",
    "    sym=input('请输入您想用来打印梯形的符号，以回车结束')\n",
    "    n=int(input('请输入您想打印的梯形的行数，以回车结束 '))\n",
    "    tri(sym,n) \n",
    "    print()\n",
    "\n",
    "main()"
   ]
  },
  {
   "cell_type": "code",
   "execution_count": 11,
   "metadata": {},
   "outputs": [
    {
     "name": "stdout",
     "output_type": "stream",
     "text": [
      "请输入您想打印的菱形的行数的一半，以回车结束6\n",
      "请输入您想用来打印菱形的符号，以回车结束**\n",
      "      \n",
      "     *\n",
      "    ***\n",
      "   *****\n",
      "  *******\n",
      " *********\n",
      "***********\n",
      " *********\n",
      "  *******\n",
      "   *****\n",
      "    ***\n",
      "     *\n"
     ]
    }
   ],
   "source": [
    "#打印各种菱形\n",
    "\n",
    "def tri(m,s):\n",
    "    for i in range(0,m):\n",
    "        for j in range(0,m-i):\n",
    "            print(' ',end='')\n",
    "            \n",
    "        for k in range(0,2*i-1):\n",
    "            print(s[0],end='')\n",
    "            \n",
    "        print()\n",
    "        \n",
    "    for i in range(m,0,-1):\n",
    "        for j in range(0,m-i):\n",
    "            print(' ',end='')\n",
    "            \n",
    "        for k in range(0,2*i-1):\n",
    "            print(s[0],end='')\n",
    "            \n",
    "        print()\n",
    "        \n",
    "        \n",
    "m=int(input('请输入您想打印的菱形的行数的一半，以回车结束'))\n",
    "s=input('请输入您想用来打印菱形的符号，以回车结束')\n",
    "\n",
    "tri(m,s)"
   ]
  },
  {
   "cell_type": "code",
   "execution_count": 12,
   "metadata": {},
   "outputs": [
    {
     "name": "stdout",
     "output_type": "stream",
     "text": [
      "[0, 1, 2, 3, 4, 5, 6, 7, 8, 9, 10, 11, 12, 13, 14, 15, 16, 17, 18, 19]\n",
      "5\n",
      "[0, 1, 2, 3, 4, 5, 6, 7, 8, 9, 10, 11, 12, 13, 14, 15, 16, 17, 18, 19]\n",
      "None\n",
      "[0, 1, 2, 3, 4, 5, 5.5, 6, 7, 8, 9, 10, 11, 12, 13, 14, 15, 16, 17, 18, 19]\n"
     ]
    }
   ],
   "source": [
    "import bisect\n",
    "\n",
    "a = [i for i in range(20)]\n",
    "print(a)\n",
    "print(bisect.bisect_left(a, 5))\n",
    "print(a)\n",
    "print(bisect.insort_left(a, 5.5))\n",
    "print(a)"
   ]
  },
  {
   "cell_type": "code",
   "execution_count": 13,
   "metadata": {},
   "outputs": [
    {
     "name": "stdout",
     "output_type": "stream",
     "text": [
      "[-9, 1, 1, 2, 5, 12, 23, 34, 45, 222, 333]\n"
     ]
    }
   ],
   "source": [
    "# 以seq为数字序列为例---普通排序（遍历）\n",
    "def sort_simple_selection(seq):\n",
    "    for i in range(len(seq)-1):\n",
    "        min = i\n",
    "        for j in range(i+1, len(seq)):\n",
    "            if seq[j] < seq[min]:\n",
    "                min = j\n",
    "        seq[i], seq[min] = seq[min], seq[i]#在list中的数字根据大小交换位置\n",
    "\n",
    "numbers = [23,45,12,1,2,333,5,1,222,34,-9]\n",
    "sort_simple_selection(numbers)\n",
    "print(numbers)\n",
    "\n"
   ]
  },
  {
   "cell_type": "code",
   "execution_count": 14,
   "metadata": {},
   "outputs": [
    {
     "name": "stdout",
     "output_type": "stream",
     "text": [
      "[23, 45, 12, 1, 2, 333, 5, 1, 222, 34, -9, -9, -9]\n",
      "[-9, -9, -9, 1, 1, 2, 5, 12, 23, 34, 45, 222, 333]\n"
     ]
    }
   ],
   "source": [
    "#快速排序（递归）\n",
    "# 以seq为数字序列为例\n",
    "def quick_sort(seq):\n",
    "    left_seq =  []\n",
    "    right_seq = []\n",
    "    p=seq[0]\n",
    "    for number in seq[1:]:\n",
    "        if number <= p:\n",
    "            left_seq.append(number)\n",
    "        else:\n",
    "            right_seq.append(number)\n",
    "    if left_seq:\n",
    "        left_seq = quick_sort(left_seq)\n",
    "    if right_seq:\n",
    "        right_seq = quick_sort(right_seq)\n",
    "\n",
    "    return  left_seq + [p] + right_seq\n",
    "\n",
    "#测试\n",
    "numbers = [23,45,12,1,2,333,5,1,222,34,-9,-9,-9]\n",
    "sorted_numbers = quick_sort(numbers)\n",
    "print(numbers)\n",
    "print(sorted_numbers)"
   ]
  },
  {
   "cell_type": "code",
   "execution_count": 16,
   "metadata": {},
   "outputs": [
    {
     "name": "stdout",
     "output_type": "stream",
     "text": [
      "[10, 10, 10, 10, 10, 10, 10, 10, 10, 10, 10, 10]\n",
      "[('人', 10), ('生', 10), ('苦', 10), ('短', 10), ('我', 10), ('用', 10), ('p', 10), ('y', 10), ('t', 10), ('h', 10), ('o', 10), ('n', 10)]\n",
      "['人', '生', '苦', '短', '我', '用', 'p', 'y', 't', 'h', 'o', 'n']\n"
     ]
    }
   ],
   "source": [
    "letters = {letter:10 for letter in '人生苦短我用python'}\n",
    "\n",
    "values = list(letters.values())\n",
    "print(values)\n",
    "    \n",
    "items = list(letters.items())\n",
    "print(items)\n",
    "    \n",
    "print(list(letters.keys())) "
   ]
  },
  {
   "cell_type": "code",
   "execution_count": 17,
   "metadata": {},
   "outputs": [
    {
     "name": "stdout",
     "output_type": "stream",
     "text": [
      "习近平 89000\n",
      "新年贺词 11000\n",
      "为 5126000\n",
      "人民 191000\n",
      "点 884000\n",
      "赞 94000\n",
      "发表 139000\n",
      "二 315000\n",
      "〇 5000\n",
      "一 2017000\n",
      "五年 73000\n",
      "提出 521000\n",
      "开弓 2000\n",
      "没有 2359000\n",
      "回头 19000\n",
      "箭 5000\n",
      "改革 561000\n",
      "关头 8000\n",
      "勇者胜 3000\n",
      "新年好 5000\n",
      "“ 19211000\n"
     ]
    }
   ],
   "source": [
    "#用dict进行词频统计\n",
    "def count_words_freq_dict(filename):\n",
    "    words_freq_dict = {}\n",
    "    \n",
    "    with open(filename) as f:\n",
    "        for line in f:\n",
    "            words = [word.split('/')[0] for word in line.split()]\n",
    "            for word in words:\n",
    "                if word in words_freq_dict: #如果词典中有键为word，则该word的value+1\n",
    "                    words_freq_dict[word] += 1\n",
    "                else:                       #否则，词典中加入键word，其value为1\n",
    "                    words_freq_dict[word] = 1\n",
    "                    \n",
    "    return words_freq_dict\n",
    "\n",
    "#测试用\n",
    "\n",
    "filename = r'd:\\temp\\语料.txt'\n",
    "table = count_words_freq_dict(filename)\n",
    "\n",
    "for i, item in enumerate(table):\n",
    "    print(item, table[item])\n",
    "    if i==20:\n",
    "        break#取前二十个词进行打印，打印出来的是词以及对应出来的词频"
   ]
  },
  {
   "cell_type": "code",
   "execution_count": 1,
   "metadata": {},
   "outputs": [
    {
     "name": "stdout",
     "output_type": "stream",
     "text": [
      "请输入一个整数，表示将要输入的单词数，回车结束。3\n",
      "请输入一个单词，回车结束。car\n",
      "请输入一个单词，回车结束。as \n",
      "请输入一个单词，回车结束。ad\n",
      "ad\n",
      "as \n",
      "car\n",
      "ad\n",
      "as \n",
      "car\n",
      "ad\n",
      "as \n",
      "car\n",
      "ad\n",
      "as \n",
      "car\n",
      "ad\n",
      "as \n",
      "car\n",
      "ad\n",
      "as \n",
      "car\n",
      "ad\n",
      "as \n",
      "car\n",
      "ad\n",
      "as \n",
      "car\n",
      "ad\n",
      "as \n",
      "car\n",
      "ad\n",
      "as \n",
      "car\n"
     ]
    }
   ],
   "source": [
    "# 倒序打印用户输入的n个单词10次\n",
    "words = []\n",
    "n = int(input('请输入一个整数，表示将要输入的单词数，回车结束。'))\n",
    "\n",
    "for i in range(n):\n",
    "    word = input('请输入一个单词，回车结束。')\n",
    "    words.append(word)\n",
    "\n",
    "for i in range(10):\n",
    "    for j in range(n-1, -1,-1):\n",
    "        print(words[j])\n",
    "        "
   ]
  },
  {
   "cell_type": "code",
   "execution_count": 6,
   "metadata": {},
   "outputs": [
    {
     "name": "stdout",
     "output_type": "stream",
     "text": [
      "0\n"
     ]
    }
   ],
   "source": [
    "#写函数，返回某个元素/对象在一个list中的位置，如果不在，则返回-1.\n",
    "def find(mylist):\n",
    "    correct=0\n",
    "    for i in range(0,len(mylist)):\n",
    "        if 1==mylist[i]:\n",
    "            correct=1\n",
    "            \n",
    "        else:\n",
    "            correct=0\n",
    "        break\n",
    "        \n",
    "    if correct==1:\n",
    "        return i\n",
    "    else:\n",
    "        return -1\n",
    "    \n",
    "    \n",
    "mylist=[1,2,3,4]\n",
    "print(find(mylist))"
   ]
  },
  {
   "cell_type": "code",
   "execution_count": 7,
   "metadata": {},
   "outputs": [
    {
     "name": "stdout",
     "output_type": "stream",
     "text": [
      "[1, 5, 2, 6, 3, 7, 4, 8]\n"
     ]
    }
   ],
   "source": [
    "#写函数，可将两个相同长度的list，间隔插入，生成新的list。例如：给两个list，a=[1,2,3,4], b=[5,6,7,8]。则可以生成：[1,5,2,6,3,7,4,8]。\n",
    "def add(a,b):\n",
    "    new_list=[]\n",
    "    for i in range(0,len(a)):\n",
    "        new_list.append(a[i])\n",
    "        new_list.append(b[i])\n",
    "        \n",
    "    return new_list\n",
    "\n",
    "a=[1,2,3,4]\n",
    "b=[5,6,7,8]\n",
    "print(add(a,b))\n",
    "        "
   ]
  },
  {
   "cell_type": "code",
   "execution_count": 13,
   "metadata": {},
   "outputs": [
    {
     "name": "stdout",
     "output_type": "stream",
     "text": [
      "请输入您想用来打印三角形的符号，以回车结束*\n",
      "请输入您想打印三角形的行数，以回车结束6\n",
      "*\n",
      "**\n",
      "***\n",
      "****\n",
      "*****\n",
      "******\n"
     ]
    }
   ],
   "source": [
    "#打印直角三角形\n",
    "def tri(s):\n",
    "    k=int(input('请输入您想打印三角形的行数，以回车结束'))\n",
    "    for i in range(0,k):\n",
    "        for j in range(0,i+1):\n",
    "            print(s[0],end='')\n",
    "            \n",
    "        print()\n",
    "        \n",
    "s=input('请输入您想用来打印三角形的符号，以回车结束')\n",
    "tri(s)\n"
   ]
  },
  {
   "cell_type": "code",
   "execution_count": 16,
   "metadata": {},
   "outputs": [
    {
     "name": "stdout",
     "output_type": "stream",
     "text": [
      "请输入您想用来打印三角形的符号，以回车结束*\n",
      "请输入您想打印三角形的行数，以回车结束6\n",
      "      *\n",
      "     ***\n",
      "    *****\n",
      "   *******\n",
      "  *********\n",
      " ***********\n"
     ]
    }
   ],
   "source": [
    "#打印等腰三角形\n",
    "def tri(s):\n",
    "    k=int(input('请输入您想打印三角形的行数，以回车结束'))\n",
    "    for i in range(0,k):\n",
    "        for j in range(k-i,0,-1):\n",
    "            print(' ',end='')\n",
    "            \n",
    "        for t in range(2*i,-1,-1):\n",
    "            print(s[0],end='')\n",
    "            \n",
    "        print()\n",
    "s=input('请输入您想用来打印三角形的符号，以回车结束')\n",
    "tri(s)"
   ]
  },
  {
   "cell_type": "code",
   "execution_count": 18,
   "metadata": {},
   "outputs": [
    {
     "name": "stdout",
     "output_type": "stream",
     "text": [
      "请输入您想用来打印菱形的符号，以回车结束*\n",
      "请输入您想打印的菱形的行数的一半，以回车结束6\n",
      "      *\n",
      "     ***\n",
      "    *****\n",
      "   *******\n",
      "  *********\n",
      " ***********\n",
      "*************\n",
      " ***********\n",
      "  *********\n",
      "   *******\n",
      "    *****\n",
      "     ***\n",
      "      *\n"
     ]
    }
   ],
   "source": [
    "#打印菱形\n",
    "def lingxing(s):\n",
    "    k=int(input('请输入您想打印的菱形的行数的一半，以回车结束'))\n",
    "    for i in range(0,k):\n",
    "        for j in range(k-i,0,-1):\n",
    "            print(' ',end='')\n",
    "        for t in range(2*i,-1,-1):\n",
    "            print(s[0],end='')\n",
    "        print()\n",
    "            \n",
    "    for i in range(k,-1,-1):\n",
    "        for j in range(k-i,0,-1):\n",
    "            print(' ',end='')\n",
    "        for t in range(2*i,-1,-1):\n",
    "            print(s[0],end='')\n",
    "            \n",
    "        print()\n",
    "        \n",
    "        \n",
    "s=input('请输入您想用来打印菱形的符号，以回车结束')\n",
    "lingxing(s)\n"
   ]
  },
  {
   "cell_type": "code",
   "execution_count": 24,
   "metadata": {},
   "outputs": [
    {
     "name": "stdout",
     "output_type": "stream",
     "text": [
      "请输入想打印的梯形的上底3\n",
      "请输入想打印的梯形的下底7\n",
      "请输入想打印的梯形的高4\n",
      "请输入想用来打印梯形的符号*\n",
      "***\n",
      "****\n",
      "*****\n",
      "******\n"
     ]
    }
   ],
   "source": [
    "#打印梯形\n",
    "def tixing(h,a,b,s):\n",
    "    x=int((b-a)/h)\n",
    "    for i in range(0,h):\n",
    "        for j in range(0,a):\n",
    "            print(s[0],end='')\n",
    "        a+=x\n",
    "        print()\n",
    "a=int(input('请输入想打印的梯形的上底'))\n",
    "b=int(input('请输入想打印的梯形的下底'))\n",
    "h=int(input('请输入想打印的梯形的高'))\n",
    "s==input('请输入想用来打印梯形的符号')\n",
    "tixing(h,a,b,s)"
   ]
  },
  {
   "cell_type": "code",
   "execution_count": null,
   "metadata": {},
   "outputs": [],
   "source": []
  },
  {
   "cell_type": "code",
   "execution_count": null,
   "metadata": {},
   "outputs": [],
   "source": []
  },
  {
   "cell_type": "code",
   "execution_count": null,
   "metadata": {},
   "outputs": [],
   "source": []
  },
  {
   "cell_type": "code",
   "execution_count": null,
   "metadata": {},
   "outputs": [],
   "source": []
  },
  {
   "cell_type": "code",
   "execution_count": null,
   "metadata": {},
   "outputs": [],
   "source": []
  },
  {
   "cell_type": "code",
   "execution_count": null,
   "metadata": {},
   "outputs": [],
   "source": []
  },
  {
   "cell_type": "code",
   "execution_count": null,
   "metadata": {},
   "outputs": [],
   "source": []
  },
  {
   "cell_type": "code",
   "execution_count": null,
   "metadata": {},
   "outputs": [],
   "source": []
  },
  {
   "cell_type": "code",
   "execution_count": null,
   "metadata": {},
   "outputs": [],
   "source": []
  },
  {
   "cell_type": "code",
   "execution_count": null,
   "metadata": {},
   "outputs": [],
   "source": []
  },
  {
   "cell_type": "code",
   "execution_count": null,
   "metadata": {},
   "outputs": [],
   "source": []
  },
  {
   "cell_type": "code",
   "execution_count": null,
   "metadata": {},
   "outputs": [],
   "source": []
  },
  {
   "cell_type": "code",
   "execution_count": null,
   "metadata": {},
   "outputs": [],
   "source": []
  },
  {
   "cell_type": "code",
   "execution_count": null,
   "metadata": {},
   "outputs": [],
   "source": []
  },
  {
   "cell_type": "code",
   "execution_count": null,
   "metadata": {},
   "outputs": [],
   "source": []
  },
  {
   "cell_type": "code",
   "execution_count": null,
   "metadata": {},
   "outputs": [],
   "source": []
  },
  {
   "cell_type": "code",
   "execution_count": null,
   "metadata": {},
   "outputs": [],
   "source": []
  },
  {
   "cell_type": "code",
   "execution_count": null,
   "metadata": {},
   "outputs": [],
   "source": []
  },
  {
   "cell_type": "code",
   "execution_count": null,
   "metadata": {},
   "outputs": [],
   "source": []
  },
  {
   "cell_type": "code",
   "execution_count": null,
   "metadata": {},
   "outputs": [],
   "source": []
  },
  {
   "cell_type": "code",
   "execution_count": null,
   "metadata": {},
   "outputs": [],
   "source": []
  },
  {
   "cell_type": "code",
   "execution_count": null,
   "metadata": {},
   "outputs": [],
   "source": []
  },
  {
   "cell_type": "code",
   "execution_count": null,
   "metadata": {},
   "outputs": [],
   "source": []
  },
  {
   "cell_type": "code",
   "execution_count": null,
   "metadata": {},
   "outputs": [],
   "source": []
  },
  {
   "cell_type": "code",
   "execution_count": null,
   "metadata": {},
   "outputs": [],
   "source": []
  },
  {
   "cell_type": "code",
   "execution_count": null,
   "metadata": {},
   "outputs": [],
   "source": []
  },
  {
   "cell_type": "code",
   "execution_count": null,
   "metadata": {},
   "outputs": [],
   "source": []
  },
  {
   "cell_type": "code",
   "execution_count": null,
   "metadata": {},
   "outputs": [],
   "source": []
  },
  {
   "cell_type": "code",
   "execution_count": null,
   "metadata": {},
   "outputs": [],
   "source": []
  },
  {
   "cell_type": "code",
   "execution_count": null,
   "metadata": {},
   "outputs": [],
   "source": []
  },
  {
   "cell_type": "code",
   "execution_count": null,
   "metadata": {},
   "outputs": [],
   "source": []
  },
  {
   "cell_type": "code",
   "execution_count": null,
   "metadata": {},
   "outputs": [],
   "source": []
  },
  {
   "cell_type": "code",
   "execution_count": null,
   "metadata": {},
   "outputs": [],
   "source": []
  },
  {
   "cell_type": "code",
   "execution_count": null,
   "metadata": {},
   "outputs": [],
   "source": []
  },
  {
   "cell_type": "code",
   "execution_count": null,
   "metadata": {},
   "outputs": [],
   "source": []
  },
  {
   "cell_type": "code",
   "execution_count": null,
   "metadata": {},
   "outputs": [],
   "source": []
  },
  {
   "cell_type": "code",
   "execution_count": null,
   "metadata": {},
   "outputs": [],
   "source": []
  },
  {
   "cell_type": "code",
   "execution_count": null,
   "metadata": {},
   "outputs": [],
   "source": []
  },
  {
   "cell_type": "code",
   "execution_count": null,
   "metadata": {},
   "outputs": [],
   "source": []
  },
  {
   "cell_type": "code",
   "execution_count": null,
   "metadata": {},
   "outputs": [],
   "source": []
  },
  {
   "cell_type": "code",
   "execution_count": null,
   "metadata": {},
   "outputs": [],
   "source": []
  },
  {
   "cell_type": "code",
   "execution_count": null,
   "metadata": {},
   "outputs": [],
   "source": []
  },
  {
   "cell_type": "code",
   "execution_count": null,
   "metadata": {},
   "outputs": [],
   "source": []
  },
  {
   "cell_type": "code",
   "execution_count": null,
   "metadata": {},
   "outputs": [],
   "source": []
  },
  {
   "cell_type": "code",
   "execution_count": null,
   "metadata": {},
   "outputs": [],
   "source": []
  },
  {
   "cell_type": "code",
   "execution_count": null,
   "metadata": {},
   "outputs": [],
   "source": []
  },
  {
   "cell_type": "code",
   "execution_count": null,
   "metadata": {},
   "outputs": [],
   "source": []
  },
  {
   "cell_type": "code",
   "execution_count": null,
   "metadata": {},
   "outputs": [],
   "source": []
  },
  {
   "cell_type": "code",
   "execution_count": null,
   "metadata": {},
   "outputs": [],
   "source": []
  },
  {
   "cell_type": "code",
   "execution_count": null,
   "metadata": {},
   "outputs": [],
   "source": []
  },
  {
   "cell_type": "code",
   "execution_count": null,
   "metadata": {},
   "outputs": [],
   "source": []
  },
  {
   "cell_type": "code",
   "execution_count": null,
   "metadata": {},
   "outputs": [],
   "source": []
  },
  {
   "cell_type": "code",
   "execution_count": null,
   "metadata": {},
   "outputs": [],
   "source": []
  }
 ],
 "metadata": {
  "kernelspec": {
   "display_name": "Python 3",
   "language": "python",
   "name": "python3"
  },
  "language_info": {
   "codemirror_mode": {
    "name": "ipython",
    "version": 3
   },
   "file_extension": ".py",
   "mimetype": "text/x-python",
   "name": "python",
   "nbconvert_exporter": "python",
   "pygments_lexer": "ipython3",
   "version": "3.6.0"
  }
 },
 "nbformat": 4,
 "nbformat_minor": 2
}
