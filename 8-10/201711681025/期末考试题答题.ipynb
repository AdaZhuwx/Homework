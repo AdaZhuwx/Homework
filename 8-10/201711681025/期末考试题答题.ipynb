{
 "cells": [
  {
   "cell_type": "code",
   "execution_count": 6,
   "metadata": {},
   "outputs": [
    {
     "name": "stdout",
     "output_type": "stream",
     "text": [
      "请输入您想用来打印菱形的符号，以回车结束*\n",
      "请输入您想打印的菱形的行数，以回车结束5\n",
      "     \n",
      "    * \n",
      "   * * \n",
      "  * * * \n",
      " * * * * \n",
      "* * * * * \n",
      " * * * * \n",
      "  * * * \n",
      "   * * \n",
      "    * \n",
      "     \n"
     ]
    }
   ],
   "source": [
    "#1、写函数，给定符号和行数，如’*’，5，可打印相应行数的如下菱形。主程序输入符号和行数调用该函数进行验证。（20分）\n",
    "\n",
    "def lingxing(s):\n",
    "    k=int(input('请输入您想打印的菱形的行数，以回车结束'))\n",
    "    for i in range(0,k):\n",
    "       \n",
    "            print(' '*(k-i)+(s[0]+' ')*i)\n",
    "        \n",
    "            \n",
    "    \n",
    "        \n",
    "    for i in range(k,-1,-1):\n",
    "        print(' '*(k-i)+(s[0]+' ')*i)\n",
    "        \n",
    "        \n",
    "s=input('请输入您想用来打印菱形的符号，以回车结束')\n",
    "lingxing(s)"
   ]
  },
  {
   "cell_type": "code",
   "execution_count": 12,
   "metadata": {},
   "outputs": [
    {
     "name": "stdout",
     "output_type": "stream",
     "text": [
      "4037914\n"
     ]
    }
   ],
   "source": [
    "#2、用递归和非递归分别实现函数求1!+2!+3!+...+n!，主程序以n=10分别调用。（20分）\n",
    "#递归\n",
    "def digui(n):\n",
    "    if n==0:\n",
    "        return 1\n",
    "    else:\n",
    "        return n*digui(n-1)\n",
    "    \n",
    "def sums(m):\n",
    "    product=0\n",
    "    for i in range(0,m+1):\n",
    "         product+=digui(i)\n",
    "    return product\n",
    "    \n",
    "m=10\n",
    "print(sums(m))\n",
    "    \n"
   ]
  },
  {
   "cell_type": "code",
   "execution_count": 14,
   "metadata": {},
   "outputs": [
    {
     "name": "stdout",
     "output_type": "stream",
     "text": [
      "4037914\n"
     ]
    }
   ],
   "source": [
    "#非递归\n",
    "def feidigui(n):\n",
    "    total=1\n",
    "    while n>0:\n",
    "        total*=n\n",
    "        n-=1\n",
    "        \n",
    "    return total\n",
    "\n",
    "def sums(m):\n",
    "    product=0\n",
    "    for i in range(0,m+1):\n",
    "        product+=feidigui(i)\n",
    "        \n",
    "    return product\n",
    "m=10\n",
    "print(sums(m))\n"
   ]
  },
  {
   "cell_type": "code",
   "execution_count": 26,
   "metadata": {},
   "outputs": [
    {
     "name": "stdout",
     "output_type": "stream",
     "text": [
      "0 京 V - Y J P C\n",
      "1 京 F - 4 P 4 4\n",
      "2 京 B - 8 L 2 2\n",
      "3 京 E - R H G 3\n",
      "4 京 P - S 2 E F\n",
      "5 京 D - X R 7 C\n",
      "6 京 M - 7 A 9 1\n",
      "7 京 L - H M Z 7\n",
      "8 京 Y - R J Y 9\n",
      "9 京 D - 1 1 T U\n"
     ]
    }
   ],
   "source": [
    "#3、北京车牌号的一般形式为：“京X-YYYYY”，其中X为字母，Y为字母或者数字，字母不能为I或者O，数字只能0-9之间。\n",
    "#请编写程序模拟选号过程：一次可以随机生成10个车牌号（不能有重复），依次将其编号为0-9，显示给用户。（20分）\n",
    "import random\n",
    "def get_words():\n",
    "    \n",
    "    words=['A','B','C','D','E','F','G','H','J','K','L','M','N','P','Q','R','S','T','U','V','W','X','Y','Z']\n",
    "    x=random.choice(words)\n",
    "    return x\n",
    "    \n",
    "def chepaihao():\n",
    "    alls=[0,1,2,3,4,5,6,7,8,9,'A','B','C','D','E','F','G','H','J','K','L','M','N','P','Q','R','S','T','U','V','W','X','Y','Z']\n",
    "\n",
    "    a=random.choice(alls)\n",
    "    \n",
    "    return a\n",
    "\n",
    "def main():\n",
    "    i=0\n",
    "    while i<10:\n",
    "     \n",
    "        \n",
    "        print(i,'京',get_words(),'-',chepaihao(),chepaihao(),chepaihao(),chepaihao())   \n",
    "        i+=1\n",
    "    \n",
    "main()\n",
    "\n",
    "        "
   ]
  },
  {
   "cell_type": "code",
   "execution_count": 38,
   "metadata": {},
   "outputs": [
    {
     "name": "stdout",
     "output_type": "stream",
     "text": [
      "0.9583148474999099\n"
     ]
    }
   ],
   "source": [
    "#4、两个向量间的距离可定义为两个向量间的夹角余弦值，给定三个向量，求向量间距离的最小值。三个向量为：[1,2,3,4],[4,5,6,7],[7,8,9,10]（20分）\n",
    "def cosangle(a,b):\n",
    "    x=a[0]*b[0]+a[1]*b[1]+a[2]*b[2]+a[3]*b[3]\n",
    "    y=a[0]**2+a[1]**2+a[2]**2+a[3]**2\n",
    "    z=b[0]**2+b[1]**2+b[2]**2+b[3]**2\n",
    "    product=x/((y*z)**0.5)\n",
    "    return product\n",
    "\n",
    "\n",
    "\n",
    "a=[1,2,3,4]\n",
    "b=[4,5,6,7]\n",
    "c=[7,8,9,10]\n",
    "alls=[]\n",
    "con1=cosangle(a,b)\n",
    "con2=cosangle(a,c)\n",
    "con3=cosangle(b,c)\n",
    "alls.append(con1)\n",
    "alls.append(con2)\n",
    "alls.append(con3)\n",
    "alls.sort()\n",
    "print(alls[0])\n"
   ]
  },
  {
   "cell_type": "markdown",
   "metadata": {},
   "source": [
    "5、随机生成100000个整数（1-10000之间）作为集合A，随机生成100000个整数（1-15000之间）作为集合B。\n",
    "（a）得到A,B所有出现的数及出现次数，分别输出到文件a.txt，b.txt中（新建文件），请输出多行，每行为两个数，两个数之间用逗号分隔（5分）；\n",
    "（b）列出A中所有回文数（例：12321）以及出现的次数（5分）；\n",
    "（c）列出B中分别由1-5个数字组成的数各自的总次数与总和，并按照总次数排序输出（如223就是3个数字组成的数，2834就是4个数字组成的数）（5分）；\n",
    "（d）从a.txt,b.txt读入得到A与B中出现的数（注意不要次数），计算既出现在A又出现在B中的数，追加输出到文件a.txt（5分）。\n"
   ]
  },
  {
   "cell_type": "code",
   "execution_count": 39,
   "metadata": {},
   "outputs": [],
   "source": [
    "#(a)\n",
    "import random\n",
    "A=[]\n",
    "for i in range(100000):\n",
    "    a=random.randint(1,10000)\n",
    "    A.append(a)\n",
    "    numbers=A\n",
    "    numbers_dict_1={}\n",
    "    for num in numbers:\n",
    "        if num in numbers_dict_1:\n",
    "            numbers_dict_1[num]+=1\n",
    "        else:\n",
    "            numbers_dict_1[num]=1\n",
    "            \n",
    "b=[]\n",
    "for key,value in numbers_dict_1.items():\n",
    "    a=key,value\n",
    "    b.append(a)\n",
    "    \n",
    "fileobject=open('a.txt','w')\n",
    "\n",
    "for i in range(len(b)):\n",
    "    if i%2==0:\n",
    "        fileobject.write(str(b[i]))\n",
    "        fileobject.write(',')\n",
    "        \n",
    "    else:\n",
    "        fileobject.write(str(b[i]))\n",
    "        fileobject.write('\\n')\n",
    "fileobject.close()\n",
    "    \n",
    "    "
   ]
  },
  {
   "cell_type": "code",
   "execution_count": null,
   "metadata": {},
   "outputs": [],
   "source": [
    "import random\n",
    "B=[]\n",
    "for i in range(100000):\n",
    "    b=random.randint(1,15000)\n",
    "    B.append(b)\n",
    "    numbers=B\n",
    "    numbers_dict={}\n",
    "    for num in numbers:\n",
    "        if num in numbers_dict:\n",
    "            numbers_dict[num]+=1\n",
    "        else:\n",
    "            numbers_dict[num]=1\n",
    "            \n",
    "d=[]\n",
    "for key,value in numbers_dict_1.items():\n",
    "    c=key,value\n",
    "    d.append(c)\n",
    "    \n",
    "fileobject=open('b.txt','w')\n",
    "\n",
    "for i in range(len(d)):\n",
    "    if i%2==0:\n",
    "        fileobject.write(str(d[i]))\n",
    "        fileobject.write(',')\n",
    "        \n",
    "    else:\n",
    "        fileobject.write(str(d[i]))\n",
    "        fileobject.write('\\n')\n",
    "fileobject.close()\n",
    "    \n",
    "    "
   ]
  },
  {
   "cell_type": "code",
   "execution_count": null,
   "metadata": {},
   "outputs": [],
   "source": [
    "#(b)\n",
    "numbers_a=[]\n",
    "huiwen=[]\n",
    "for key,value in numbers_dict_1.items():\n",
    "    a=key,value\n",
    "    numbers_a.append(a)\n",
    "    \n",
    "for i in range(len(numbers_a)):\n",
    "    ha=len(str((numbers_a[i][0])))\n",
    "    zi=str((numbers_a[i][0]))\n",
    "    if ha==1:\n",
    "        huiwen.append(numbers_a[i])\n",
    "        \n",
    "    elif ha==2 and zi[0]==zi[1]:\n",
    "        huiwen.append(numbers_a[i])\n",
    "    elif ha==3 and zi[0]==zi[2]:\n",
    "        huiwen.append(numbers_a[i])\n",
    "    elif ha==4 and zi[0]==zi[3]and zi[1]==zi[2]:\n",
    "        huiwen.append(numbers_a[i])\n",
    "        \n",
    "        \n",
    "print(huiwen)\n",
    "    "
   ]
  },
  {
   "cell_type": "code",
   "execution_count": null,
   "metadata": {},
   "outputs": [],
   "source": [
    "#（c）列出B中分别由1-5个数字组成的数各自的总次数与总和，并按照总次数排序输出\n",
    "#（如223就是3个数字组成的数，2834就是4个数字组成的数）（5分）\n",
    "B_len=[]\n",
    "for key,value in b_freq_pairs.items():\n",
    "    c=key,value\n",
    "    B_len.append(b_)\n",
    "len_1=[]\n",
    "freq_1=[]\n",
    "len_2=[]\n",
    "freq_2=[]\n",
    "len_3=[]\n",
    "freq_3=[]\n",
    "len_4=[]\n",
    "freq_4=[]\n",
    "len_5=[]\n",
    "freq_5=[]\n",
    "for i in range(len(B_len)):\n",
    "    cd=len(str(B_len[i][0]))\n",
    "    number=B_len[i][0]\n",
    "    freq=B_len[i][1]\n",
    "    if cd=1:\n",
    "        len_1.append(number)\n",
    "        freq_1.append(freq)\n",
    "    elif cd=2:\n",
    "        len_2.append(number)\n",
    "        freq_2.append(freq)\n",
    "    elif cd=3:\n",
    "        len_3.append(number)\n",
    "        freq_3.append(freq)\n",
    "    elif cd=4:\n",
    "        len_4.append(number)\n",
    "        freq_4.append(freq)\n",
    "    elif cd=5:\n",
    "        len_5.append(number)\n",
    "        freq_5.append(freq)\n",
    "dict_1={sum(len_1):sum(freq_1)}\n",
    "dict_2={sum(len_2):sum(freq_2)}\n",
    "dict_3={sum(len_3):sum(freq_3)}\n",
    "dict_4={sum(len_4):sum(freq_4)}\n",
    "dict_5={sum(len_5):sum(freq_5)}\n",
    "dict_1.update(dict_2)\n",
    "dict_1.update(dict_3)\n",
    "dict_1.update(dict_4)\n",
    "dict_1.update(dict_5)\n",
    "print(sorted(dict_1.items(),key=lambda d:d[1]))"
   ]
  },
  {
   "cell_type": "code",
   "execution_count": null,
   "metadata": {},
   "outputs": [],
   "source": [
    "#（d）从a.txt,b.txt读入得到A与B中出现的数（注意不要次数），计算既出现在A又出现在B中的数，追加输出到文件a.txt（5分）。\n",
    "f=open(r'D:\\python\\a.txt','r')\n",
    "a=f.read()\n",
    "a1=a.replace('(','')\n",
    "a2=a1.replace(')','')\n",
    "a_=a2.replace(',','\\n')\n",
    "numbera=[num.split('\\n')[0]for num in a_.split(',')]\n",
    "print(numbera)\n",
    "h=open(r'D:\\python\\b.txt','r')\n",
    "b=h.read()\n",
    "b1=b.replace('(','')\n",
    "b2=b1.replace(')','')\n",
    "b_=b2.replace(',','\\n')\n",
    "numberb=[num.split('\\n')[0]for num in b_.split(',')]\n",
    "print(numberb)\n",
    "common=[]\n",
    "numa=set(numbera)\n",
    "numb=set(numberb)\n",
    "print(numa&numb)"
   ]
  },
  {
   "cell_type": "code",
   "execution_count": null,
   "metadata": {},
   "outputs": [],
   "source": []
  },
  {
   "cell_type": "code",
   "execution_count": null,
   "metadata": {},
   "outputs": [],
   "source": []
  },
  {
   "cell_type": "code",
   "execution_count": null,
   "metadata": {},
   "outputs": [],
   "source": []
  },
  {
   "cell_type": "code",
   "execution_count": null,
   "metadata": {},
   "outputs": [],
   "source": []
  },
  {
   "cell_type": "code",
   "execution_count": null,
   "metadata": {},
   "outputs": [],
   "source": []
  },
  {
   "cell_type": "code",
   "execution_count": null,
   "metadata": {},
   "outputs": [],
   "source": []
  },
  {
   "cell_type": "code",
   "execution_count": null,
   "metadata": {},
   "outputs": [],
   "source": []
  },
  {
   "cell_type": "code",
   "execution_count": null,
   "metadata": {},
   "outputs": [],
   "source": []
  },
  {
   "cell_type": "code",
   "execution_count": null,
   "metadata": {},
   "outputs": [],
   "source": []
  },
  {
   "cell_type": "code",
   "execution_count": null,
   "metadata": {},
   "outputs": [],
   "source": []
  },
  {
   "cell_type": "code",
   "execution_count": null,
   "metadata": {},
   "outputs": [],
   "source": []
  },
  {
   "cell_type": "code",
   "execution_count": null,
   "metadata": {},
   "outputs": [],
   "source": []
  },
  {
   "cell_type": "code",
   "execution_count": null,
   "metadata": {},
   "outputs": [],
   "source": []
  },
  {
   "cell_type": "code",
   "execution_count": null,
   "metadata": {},
   "outputs": [],
   "source": []
  },
  {
   "cell_type": "code",
   "execution_count": null,
   "metadata": {},
   "outputs": [],
   "source": []
  },
  {
   "cell_type": "code",
   "execution_count": null,
   "metadata": {},
   "outputs": [],
   "source": []
  },
  {
   "cell_type": "code",
   "execution_count": null,
   "metadata": {},
   "outputs": [],
   "source": []
  },
  {
   "cell_type": "code",
   "execution_count": null,
   "metadata": {},
   "outputs": [],
   "source": []
  },
  {
   "cell_type": "code",
   "execution_count": null,
   "metadata": {},
   "outputs": [],
   "source": []
  },
  {
   "cell_type": "code",
   "execution_count": null,
   "metadata": {},
   "outputs": [],
   "source": []
  },
  {
   "cell_type": "code",
   "execution_count": null,
   "metadata": {},
   "outputs": [],
   "source": []
  },
  {
   "cell_type": "code",
   "execution_count": null,
   "metadata": {},
   "outputs": [],
   "source": []
  },
  {
   "cell_type": "code",
   "execution_count": null,
   "metadata": {},
   "outputs": [],
   "source": []
  },
  {
   "cell_type": "code",
   "execution_count": null,
   "metadata": {},
   "outputs": [],
   "source": []
  },
  {
   "cell_type": "code",
   "execution_count": null,
   "metadata": {},
   "outputs": [],
   "source": []
  },
  {
   "cell_type": "code",
   "execution_count": null,
   "metadata": {},
   "outputs": [],
   "source": []
  },
  {
   "cell_type": "code",
   "execution_count": null,
   "metadata": {},
   "outputs": [],
   "source": []
  },
  {
   "cell_type": "code",
   "execution_count": null,
   "metadata": {},
   "outputs": [],
   "source": []
  },
  {
   "cell_type": "code",
   "execution_count": null,
   "metadata": {},
   "outputs": [],
   "source": []
  },
  {
   "cell_type": "code",
   "execution_count": null,
   "metadata": {},
   "outputs": [],
   "source": []
  },
  {
   "cell_type": "code",
   "execution_count": null,
   "metadata": {},
   "outputs": [],
   "source": []
  },
  {
   "cell_type": "code",
   "execution_count": null,
   "metadata": {},
   "outputs": [],
   "source": []
  },
  {
   "cell_type": "code",
   "execution_count": null,
   "metadata": {},
   "outputs": [],
   "source": []
  },
  {
   "cell_type": "code",
   "execution_count": null,
   "metadata": {},
   "outputs": [],
   "source": []
  },
  {
   "cell_type": "code",
   "execution_count": null,
   "metadata": {},
   "outputs": [],
   "source": []
  },
  {
   "cell_type": "code",
   "execution_count": null,
   "metadata": {},
   "outputs": [],
   "source": []
  },
  {
   "cell_type": "code",
   "execution_count": null,
   "metadata": {},
   "outputs": [],
   "source": []
  },
  {
   "cell_type": "code",
   "execution_count": null,
   "metadata": {},
   "outputs": [],
   "source": []
  },
  {
   "cell_type": "code",
   "execution_count": null,
   "metadata": {},
   "outputs": [],
   "source": []
  }
 ],
 "metadata": {
  "kernelspec": {
   "display_name": "Python 3",
   "language": "python",
   "name": "python3"
  },
  "language_info": {
   "codemirror_mode": {
    "name": "ipython",
    "version": 3
   },
   "file_extension": ".py",
   "mimetype": "text/x-python",
   "name": "python",
   "nbconvert_exporter": "python",
   "pygments_lexer": "ipython3",
   "version": "3.6.0"
  }
 },
 "nbformat": 4,
 "nbformat_minor": 2
}
