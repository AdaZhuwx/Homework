{
 "cells": [
  {
   "cell_type": "code",
   "execution_count": 1,
   "metadata": {},
   "outputs": [
    {
     "name": "stdout",
     "output_type": "stream",
     "text": [
      "请输入您想打印菱形的行数5\n",
      "请输入您想打印菱形的符号*\n",
      "      \n",
      "     * \n",
      "    * * \n",
      "   * * * \n",
      "  * * * * \n",
      " * * * * * \n",
      "  * * * * \n",
      "   * * * \n",
      "    * * \n",
      "     * \n",
      "      \n"
     ]
    }
   ],
   "source": [
    "def lingxing(k,s):\n",
    "    for i in range(0,k):\n",
    "        print(' '*(k-i),(s[0]+' ')*i)\n",
    "        \n",
    "    for i in range(k,-1,-1):\n",
    "        print(' '*(k-i),(s[0]+' ')*i)\n",
    "        \n",
    "k=int(input('请输入您想打印菱形的行数'))\n",
    "s=input('请输入您想打印菱形的符号')\n",
    "lingxing(k,s)"
   ]
  },
  {
   "cell_type": "code",
   "execution_count": 3,
   "metadata": {},
   "outputs": [
    {
     "name": "stdout",
     "output_type": "stream",
     "text": [
      "4037914\n"
     ]
    }
   ],
   "source": [
    "#递归\n",
    "def digui(i):\n",
    "    if i==0:\n",
    "        return 1\n",
    "    else:\n",
    "        return i*digui(i-1)\n",
    "    \n",
    "def sums(n):\n",
    "    total=0\n",
    "    for i in range(0,n+1):\n",
    "        total+=digui(i)\n",
    "        \n",
    "    return total\n",
    "\n",
    "n=10\n",
    "print(sums(n))\n",
    "        "
   ]
  },
  {
   "cell_type": "code",
   "execution_count": 4,
   "metadata": {},
   "outputs": [
    {
     "name": "stdout",
     "output_type": "stream",
     "text": [
      "4037914\n"
     ]
    }
   ],
   "source": [
    "#非递归\n",
    "def feidigui(n):\n",
    "    i=0\n",
    "    total=1\n",
    "    while i <n:\n",
    "        i+=1\n",
    "        total*=i\n",
    "    return total\n",
    "\n",
    "def sums(n):\n",
    "    total=0\n",
    "    for i in range(0,n+1):\n",
    "        total+=digui(i)\n",
    "        \n",
    "    return total\n",
    "\n",
    "n=10\n",
    "print(sums(n))\n",
    "        "
   ]
  },
  {
   "cell_type": "code",
   "execution_count": 2,
   "metadata": {},
   "outputs": [
    {
     "name": "stdout",
     "output_type": "stream",
     "text": [
      "0 京 F - K 4 3 K\n",
      "1 京 D - C P P T\n",
      "2 京 H - 1 M V W\n",
      "3 京 M - U 3 M 1\n",
      "4 京 Y - F B K V\n",
      "5 京 S - C H D 8\n",
      "6 京 G - F W 1 Q\n",
      "7 京 N - K 4 C E\n",
      "8 京 L - G 8 K T\n"
     ]
    }
   ],
   "source": [
    "import random\n",
    "def get_words():\n",
    "    words=['A','B','C','D','E','F','G','H','J','K','L','M','N','P','Q','R','S','T','U','V','W','X','Y','Z']\n",
    "    word=random.choice(words)\n",
    "    return word\n",
    "\n",
    "def get_left():\n",
    "    lefts=[0,1,2,3,4,5,6,7,8,9,'A','B','C','D','E','F','G','H','J','K','L','M','N','P','Q','R','S','T','U','V','W','X','Y','Z']\n",
    "    left=random.choice(lefts)\n",
    "    return left\n",
    "\n",
    "\n",
    "def main():\n",
    "    i=0\n",
    "    while i<9:\n",
    "        \n",
    "        print(i,'京',get_words(),'-',get_left(),get_left(),get_left(),get_left())\n",
    "        i+=1\n",
    "        \n",
    "main()        \n",
    "    "
   ]
  },
  {
   "cell_type": "code",
   "execution_count": 3,
   "metadata": {},
   "outputs": [
    {
     "name": "stdout",
     "output_type": "stream",
     "text": [
      "学大言语京北\n"
     ]
    }
   ],
   "source": [
    "def repri(s):\n",
    "    print(s[::-1])\n",
    "    \n",
    "s='北京语言大学'\n",
    "repri(s)"
   ]
  },
  {
   "cell_type": "code",
   "execution_count": 5,
   "metadata": {},
   "outputs": [
    {
     "name": "stdout",
     "output_type": "stream",
     "text": [
      "请输入您想打印的三角形的行数6\n",
      "请输入您想用来打印三角形的符号*\n",
      "\n",
      "*\n",
      "**\n",
      "***\n",
      "****\n",
      "*****\n",
      "******\n"
     ]
    }
   ],
   "source": [
    "#直角三角形：\n",
    "def tri(k,s):\n",
    "    for i in range(0,k+1):\n",
    "        for j in range(0,i):\n",
    "            print(s[0],end='')\n",
    "        print()\n",
    "        \n",
    "        \n",
    "k=int(input('请输入您想打印的三角形的行数'))\n",
    "s=input('请输入您想用来打印三角形的符号')\n",
    "tri(k,s)"
   ]
  },
  {
   "cell_type": "code",
   "execution_count": 7,
   "metadata": {},
   "outputs": [
    {
     "name": "stdout",
     "output_type": "stream",
     "text": [
      "请输入您想打印的三角形的行数6\n",
      "请输入您想打印的三角形的符号*\n",
      "      \n",
      "     *\n",
      "    ***\n",
      "   *****\n",
      "  *******\n",
      " *********\n",
      "***********\n"
     ]
    }
   ],
   "source": [
    "#等腰三角形\n",
    "def tri(k,s):\n",
    "    for i in range(0,k+1):\n",
    "        for j in range(k-i,0,-1):\n",
    "            print(' ',end='')\n",
    "        for t in range(2*i-1,0,-1):\n",
    "            print(s[0],end='')\n",
    "            \n",
    "        print()\n",
    "        \n",
    "k=int(input('请输入您想打印的三角形的行数'))\n",
    "s=input('请输入您想打印的三角形的符号')\n",
    "tri(k,s)"
   ]
  },
  {
   "cell_type": "code",
   "execution_count": 7,
   "metadata": {},
   "outputs": [
    {
     "name": "stdout",
     "output_type": "stream",
     "text": [
      "plz input upper line: 3\n",
      "plz input lower line: 7\n",
      "plz input height: 4\n",
      "***\n",
      "****\n",
      "*****\n",
      "******\n"
     ]
    }
   ],
   "source": [
    "#梯形\n",
    "def trap(a,b,h):\n",
    "    x=(b-a)//h\n",
    "    for i in range(0,h):\n",
    "        for j in range(0,a):\n",
    "            print ('*',end='')\n",
    "        a+=x\n",
    "        print()\n",
    "def main():\n",
    "    a=int(input('plz input upper line: '))\n",
    "    b=int(input('plz input lower line: '))\n",
    "    h=int(input('plz input height: '))\n",
    "    trap(a,b,h)\n",
    "main()"
   ]
  },
  {
   "cell_type": "code",
   "execution_count": 10,
   "metadata": {},
   "outputs": [
    {
     "name": "stdout",
     "output_type": "stream",
     "text": [
      "请输入您想打印的菱形的行数6\n",
      "请输入您想用来打印菱形的符号*\n",
      "       *\n",
      "      ***\n",
      "     *****\n",
      "    *******\n",
      "   *********\n",
      "  ***********\n",
      " *************\n",
      "***************\n",
      " *************\n",
      "  ***********\n",
      "   *********\n",
      "    *******\n",
      "     *****\n",
      "      ***\n",
      "       *\n"
     ]
    }
   ],
   "source": [
    "#菱形\n",
    "def lingxing(k,s):\n",
    "    for i in range(0,k+1):\n",
    "        for j in range(k-i,-1,-1):\n",
    "            print(' ',end='')\n",
    "        for t in range(2*i,-1,-1):\n",
    "            print(s[0],end='')\n",
    "        print()\n",
    "        \n",
    "    for i in range(k+1,-1,-1):\n",
    "        for j in range(k-i,-1,-1):\n",
    "            print(' ',end='')\n",
    "        for t in range(2*i,-1,-1):\n",
    "            print(s[0],end='')\n",
    "        print()\n",
    "k=int(input('请输入您想打印的菱形的行数'))\n",
    "s=input('请输入您想用来打印菱形的符号')\n",
    "lingxing(k,s)"
   ]
  },
  {
   "cell_type": "code",
   "execution_count": 11,
   "metadata": {},
   "outputs": [
    {
     "name": "stdout",
     "output_type": "stream",
     "text": [
      "             赏\n",
      "            赏赏\n",
      "           赏花赏\n",
      "          赏花花赏\n",
      "         赏花归花赏\n",
      "        赏花归归花赏\n",
      "       赏花归去归花赏\n",
      "      赏花归去去归花赏\n",
      "     赏花归去马去归花赏\n",
      "    赏花归去马马去归花赏\n",
      "   赏花归去马如马去归花赏\n",
      "  赏花归去马如如马去归花赏\n",
      " 赏花归去马如飞如马去归花赏\n",
      "赏花归去马如飞飞如马去归花赏\n",
      " 赏花归去马如飞如马去归花赏\n",
      "  赏花归去马如如马去归花赏\n",
      "   赏花归去马如马去归花赏\n",
      "    赏花归去马马去归花赏\n",
      "     赏花归去马去归花赏\n",
      "      赏花归去去归花赏\n",
      "       赏花归去归花赏\n",
      "        赏花归归花赏\n",
      "         赏花归花赏\n",
      "          赏花花赏\n",
      "           赏花赏\n",
      "            赏赏\n",
      "             赏\n"
     ]
    }
   ],
   "source": [
    "#回文菱形\n",
    "def plalindrome(line):\n",
    "     for i in range(1, len(line)*2):\n",
    "        if i == 1:\n",
    "            print(' '*(len(line)*2-1) +line[0])\n",
    "        elif i%2 == 1:\n",
    "            print(' '*(len(line)*2-i) + line[:i//2] + line[i//2] + line[i//2-1::-1])\n",
    "        else:\n",
    "            print(' '*(len(line)*2-i) + line[:i//2] + line[i//2-1::-1])\n",
    " \n",
    "     for i in range( len(line)*2,0,-1):#只改变一下前方i遍历时的顺序，使其倒序即可\n",
    "        if i == 1:\n",
    "            print(' '*(len(line)*2-1) +line[0])\n",
    "        elif i%2 == 1:\n",
    "            print(' '*(len(line)*2-i) + line[:i//2] + line[i//2] + line[i//2-1::-1])\n",
    "        else:\n",
    "            print(' '*(len(line)*2-i) + line[:i//2] + line[i//2-1::-1])\n",
    "   \n",
    "def main():\n",
    "    text = '赏花归去马如飞'\n",
    "    plalindrome(text)\n",
    "\n",
    "main()\n"
   ]
  },
  {
   "cell_type": "code",
   "execution_count": null,
   "metadata": {},
   "outputs": [],
   "source": []
  },
  {
   "cell_type": "code",
   "execution_count": null,
   "metadata": {},
   "outputs": [],
   "source": []
  },
  {
   "cell_type": "code",
   "execution_count": null,
   "metadata": {},
   "outputs": [],
   "source": []
  },
  {
   "cell_type": "code",
   "execution_count": null,
   "metadata": {},
   "outputs": [],
   "source": []
  },
  {
   "cell_type": "code",
   "execution_count": null,
   "metadata": {},
   "outputs": [],
   "source": []
  },
  {
   "cell_type": "code",
   "execution_count": null,
   "metadata": {},
   "outputs": [],
   "source": []
  },
  {
   "cell_type": "code",
   "execution_count": null,
   "metadata": {},
   "outputs": [],
   "source": []
  },
  {
   "cell_type": "code",
   "execution_count": null,
   "metadata": {},
   "outputs": [],
   "source": []
  },
  {
   "cell_type": "code",
   "execution_count": null,
   "metadata": {},
   "outputs": [],
   "source": []
  },
  {
   "cell_type": "code",
   "execution_count": null,
   "metadata": {},
   "outputs": [],
   "source": []
  },
  {
   "cell_type": "code",
   "execution_count": null,
   "metadata": {},
   "outputs": [],
   "source": []
  },
  {
   "cell_type": "code",
   "execution_count": null,
   "metadata": {},
   "outputs": [],
   "source": []
  },
  {
   "cell_type": "code",
   "execution_count": null,
   "metadata": {},
   "outputs": [],
   "source": []
  },
  {
   "cell_type": "code",
   "execution_count": null,
   "metadata": {},
   "outputs": [],
   "source": []
  },
  {
   "cell_type": "code",
   "execution_count": null,
   "metadata": {},
   "outputs": [],
   "source": []
  },
  {
   "cell_type": "code",
   "execution_count": null,
   "metadata": {},
   "outputs": [],
   "source": []
  },
  {
   "cell_type": "code",
   "execution_count": null,
   "metadata": {},
   "outputs": [],
   "source": []
  },
  {
   "cell_type": "code",
   "execution_count": null,
   "metadata": {},
   "outputs": [],
   "source": []
  },
  {
   "cell_type": "code",
   "execution_count": null,
   "metadata": {},
   "outputs": [],
   "source": []
  }
 ],
 "metadata": {
  "kernelspec": {
   "display_name": "Python 3",
   "language": "python",
   "name": "python3"
  }
 },
 "nbformat": 4,
 "nbformat_minor": 2
}
