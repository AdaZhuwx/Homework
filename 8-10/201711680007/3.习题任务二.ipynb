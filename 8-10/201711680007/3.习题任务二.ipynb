{
 "cells": [
  {
   "cell_type": "markdown",
   "metadata": {},
   "source": [
    "- 练习 1：仿照求$ \\sum_{i=1}^mi + \\sum_{i=1}^ni  + \\sum_{i=1}^ki$的完整代码，写程序，可求m!+n!+k!\n",
    "- 练习 2：写函数可返回1 - 1/3 + 1/5 - 1/7...的前n项的和。在主程序中，分别令n=1000及100000，打印4倍该函数的和。\n",
    "- 练习 3：将task3中的练习1及练习4改写为函数，并进行调用。\n",
    "- 挑战性练习：写程序，可以求从整数m到整数n累加的和，间隔为k，求和部分需用函数实现，主程序中由用户输入m，n，k调用函数验证正确性。"
   ]
  },
  {
   "cell_type": "markdown",
   "metadata": {},
   "source": [
    "- 练习 1：写函数，求n个随机整数均值的平方根，整数范围在m与k之间（n,m,k由用户输入）。\n",
    "- 练习 2：写函数，共n个随机整数，整数范围在m与k之间，（n,m,k由用户输入）。求1：西格玛log(随机整数)，2：西格玛1/log(随机整数)\n",
    "- 练习 3：写函数，求s=a+aa+aaa+aaaa+aa...a的值，其中a是[1,9]之间的随机整数。例如2+22+222+2222+22222(此时共有5个数相加)，几个数相加由键盘输入。"
   ]
  },
  {
   "cell_type": "code",
   "execution_count": 7,
   "metadata": {},
   "outputs": [
    {
     "name": "stdout",
     "output_type": "stream",
     "text": [
      "请输入一个整数，以回车结束1\n",
      "请输入一个整数，以回车结束2\n",
      "请输入一个整数，以回车结束3\n",
      "9\n"
     ]
    }
   ],
   "source": [
    "#练习 1：仿照求 ∑mi=1i+∑ni=1i+∑ki=1i∑i=1mi+∑i=1ni+∑i=1ki 的完整代码，写程序，可求m!+n!+k!\n",
    "\n",
    "def sum(seq):\n",
    "    i=1\n",
    "    total=1\n",
    "    while i<seq:\n",
    "        i=i+1\n",
    "        total=total*i\n",
    "        \n",
    "    return total\n",
    "m=int(input('请输入一个整数，以回车结束'))\n",
    "n=int(input('请输入一个整数，以回车结束'))\n",
    "k=int(input('请输入一个整数，以回车结束'))\n",
    "a=sum(m)\n",
    "b=sum(n)\n",
    "c=sum(k)\n",
    "\n",
    "print(a+b+c)"
   ]
  },
  {
   "cell_type": "code",
   "execution_count": 11,
   "metadata": {},
   "outputs": [
    {
     "name": "stdout",
     "output_type": "stream",
     "text": [
      "-3.140592653839794\n",
      "-3.1415826535897198\n"
     ]
    }
   ],
   "source": [
    "#练习 2：写函数可返回1 - 1/3 + 1/5 - 1/7...的前n项的和。在主程序中，分别令n=1000及100000，打印4倍该函数的和。\n",
    "\n",
    "def compute(end):\n",
    "    i=0\n",
    "    total=0\n",
    "    while i<end:\n",
    "        i+=1\n",
    "        total=total+((-1)**i)/(2*i-1)\n",
    "        \n",
    "    return total\n",
    "\n",
    "\n",
    "n1=1000\n",
    "print(compute(n1)*4)\n",
    "n2=100000\n",
    "print(compute(n2)*4)\n",
    "    "
   ]
  },
  {
   "cell_type": "code",
   "execution_count": 13,
   "metadata": {},
   "outputs": [
    {
     "name": "stdout",
     "output_type": "stream",
     "text": [
      "请输入一个整数，以回车结束1\n",
      "请输入一个比m大的整数，以回车结束5\n",
      "请输入您想取得的间隔，以回车结束2\n",
      "2.0\n"
     ]
    }
   ],
   "source": [
    "#挑战性练习：写程序，可以求从整数m到整数n累加的和，间隔为k，求和部分需用函数实现，主程序中由用户输入m，n，k调用函数验证正确性。\n",
    "\n",
    "def sum(m,n,k):\n",
    "    total=m\n",
    "    sep=(n-m)/k+1\n",
    "    while m<n:\n",
    "        n-=sep\n",
    "        total+=n\n",
    "    return total\n",
    "\n",
    "m=int(input('请输入一个整数，以回车结束'))\n",
    "n=int(input('请输入一个比m大的整数，以回车结束'))\n",
    "\n",
    "k=int(input('请输入您想取得的间隔，以回车结束'))\n",
    "\n",
    "print(sum(m,n,k))\n",
    "\n",
    "\n",
    "    \n",
    "    \n",
    "    "
   ]
  },
  {
   "cell_type": "code",
   "execution_count": 15,
   "metadata": {},
   "outputs": [
    {
     "name": "stdout",
     "output_type": "stream",
     "text": [
      "请输入您想输入的整数的个数，以回车结束3\n",
      "请输入您想取得的数字的下限，以回车结束1\n",
      "请您输入您想输入的数字的上限，以回车结束6\n",
      "1.8257418583505538\n"
     ]
    }
   ],
   "source": [
    "#练习 1：写函数，求n个随机整数均值的平方根，整数范围在m与k之间（n,m,k由用户输入）。\n",
    "import math\n",
    "import random\n",
    "def spu(n,m,k):\n",
    "    i=0\n",
    "    total=0\n",
    "    while i<n:\n",
    "        i+=1\n",
    "        num=random.randint(m,k+1)\n",
    "        total=total+num\n",
    "    return total\n",
    "\n",
    "n=int(input('请输入您想取得的整数的个数，以回车结束'))\n",
    "m=int(input('请输入您想取得的数字的下限，以回车结束'))\n",
    "k=int(input('请您输入您想输入的数字的上限，以回车结束'))\n",
    "\n",
    "ave=spu(n,m,k)/n\n",
    "print(math.sqrt(ave))\n",
    "\n",
    "\n",
    "        "
   ]
  },
  {
   "cell_type": "code",
   "execution_count": 1,
   "metadata": {},
   "outputs": [
    {
     "name": "stdout",
     "output_type": "stream",
     "text": [
      "请输入您想取得的整数的个数，以回车结束3\n",
      "请输入您想取得的数字的下限，以回车结束1\n",
      "请您输入您想输入的数字的上限，以回车结束6\n",
      "(3.4011973816621555, 2.9742692020754125)\n"
     ]
    }
   ],
   "source": [
    "#练习 2：写函数，共n个随机整数，整数范围在m与k之间，（n,m,k由用户输入）。求1：西格玛log(随机整数)，2：西格玛1/log(随机整数)\n",
    "import math,random\n",
    "def get(n,m,k):\n",
    "    \n",
    "    i=0\n",
    "    total1=0\n",
    "    total2=0\n",
    "    while i<n:\n",
    "        num=random.randint(m,k+1)\n",
    "        i+=1\n",
    "        total1+=math.log(num)\n",
    "        \n",
    "        total2+=1/math.log(num)\n",
    "        \n",
    "    return total1,total2\n",
    "\n",
    "n=int(input('请输入您想取得的整数的个数，以回车结束'))\n",
    "m=int(input('请输入您想取得的数字的下限，以回车结束'))\n",
    "k=int(input('请您输入您想输入的数字的上限，以回车结束'))\n",
    "\n",
    "print(get(n,m,k))"
   ]
  },
  {
   "cell_type": "code",
   "execution_count": 9,
   "metadata": {},
   "outputs": [
    {
     "name": "stdout",
     "output_type": "stream",
     "text": [
      "请输入您行获得的相加的整数的个数3\n",
      "本次生成的数为： 1\n",
      "1.0\n",
      "11.0\n",
      "111.0\n",
      "3 个数相加的和为 123.0\n"
     ]
    }
   ],
   "source": [
    "!!!!#练习 3：写函数，求s=a+aa+aaa+aaaa+aa...a的值，其中a是[1,9]之间的随机整数。例如2+22+222+2222+22222(此时共有5个数相加)，几个数相加由键盘输入。\n",
    "\n",
    "import random,math\n",
    "\n",
    "def get(b):\n",
    "    a=random.randint(1,10)\n",
    "    print('本次生成的数为：',a)\n",
    "    \n",
    "    b=math.pow(10,0)*a\n",
    "    print(b)\n",
    "    \n",
    "    i=0\n",
    "    sum=b\n",
    "    while i+1<n:\n",
    "        b=math.pow(10,i+1)*a+b\n",
    "        print(b)\n",
    "        sum+=b\n",
    "        i+=1\n",
    "    return sum\n",
    "\n",
    "b=int(input('请输入您行获得的相加的整数的个数'))\n",
    "sums=get(b)\n",
    "print(b,'个数相加的和为',sums)"
   ]
  },
  {
   "cell_type": "code",
   "execution_count": null,
   "metadata": {},
   "outputs": [],
   "source": []
  },
  {
   "cell_type": "code",
   "execution_count": null,
   "metadata": {},
   "outputs": [],
   "source": []
  },
  {
   "cell_type": "code",
   "execution_count": null,
   "metadata": {},
   "outputs": [],
   "source": []
  },
  {
   "cell_type": "code",
   "execution_count": null,
   "metadata": {},
   "outputs": [],
   "source": []
  },
  {
   "cell_type": "code",
   "execution_count": null,
   "metadata": {},
   "outputs": [],
   "source": []
  },
  {
   "cell_type": "code",
   "execution_count": null,
   "metadata": {},
   "outputs": [],
   "source": []
  },
  {
   "cell_type": "code",
   "execution_count": null,
   "metadata": {},
   "outputs": [],
   "source": []
  },
  {
   "cell_type": "code",
   "execution_count": null,
   "metadata": {},
   "outputs": [],
   "source": []
  },
  {
   "cell_type": "code",
   "execution_count": null,
   "metadata": {},
   "outputs": [],
   "source": []
  },
  {
   "cell_type": "code",
   "execution_count": null,
   "metadata": {},
   "outputs": [],
   "source": []
  },
  {
   "cell_type": "code",
   "execution_count": null,
   "metadata": {},
   "outputs": [],
   "source": []
  },
  {
   "cell_type": "code",
   "execution_count": null,
   "metadata": {},
   "outputs": [],
   "source": []
  },
  {
   "cell_type": "code",
   "execution_count": null,
   "metadata": {},
   "outputs": [],
   "source": []
  },
  {
   "cell_type": "code",
   "execution_count": null,
   "metadata": {},
   "outputs": [],
   "source": []
  },
  {
   "cell_type": "code",
   "execution_count": null,
   "metadata": {},
   "outputs": [],
   "source": []
  },
  {
   "cell_type": "code",
   "execution_count": null,
   "metadata": {},
   "outputs": [],
   "source": []
  },
  {
   "cell_type": "code",
   "execution_count": null,
   "metadata": {},
   "outputs": [],
   "source": []
  },
  {
   "cell_type": "code",
   "execution_count": null,
   "metadata": {},
   "outputs": [],
   "source": []
  },
  {
   "cell_type": "code",
   "execution_count": null,
   "metadata": {},
   "outputs": [],
   "source": []
  },
  {
   "cell_type": "code",
   "execution_count": null,
   "metadata": {},
   "outputs": [],
   "source": []
  },
  {
   "cell_type": "code",
   "execution_count": null,
   "metadata": {},
   "outputs": [],
   "source": []
  },
  {
   "cell_type": "code",
   "execution_count": null,
   "metadata": {},
   "outputs": [],
   "source": []
  },
  {
   "cell_type": "code",
   "execution_count": null,
   "metadata": {},
   "outputs": [],
   "source": []
  }
 ],
 "metadata": {
  "kernelspec": {
   "display_name": "Python 3",
   "language": "python",
   "name": "python3"
  },
  "language_info": {
   "codemirror_mode": {
    "name": "ipython",
    "version": 3
   },
   "file_extension": ".py",
   "mimetype": "text/x-python",
   "name": "python",
   "nbconvert_exporter": "python",
   "pygments_lexer": "ipython3",
   "version": "3.6.0"
  }
 },
 "nbformat": 4,
 "nbformat_minor": 2
}
