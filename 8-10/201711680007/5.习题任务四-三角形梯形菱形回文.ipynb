{
 "cells": [
  {
   "cell_type": "markdown",
   "metadata": {},
   "source": [
    "练习一：自己定义一个reverse(s)函数，功能返回字符串s的倒序字符串。\n",
    "\n",
    "练习二：写函数，根据给定符号和行数，打印相应直角三角形，等腰三角形及其他形式的三角形。\n",
    "\n",
    "练习三：将任务4中的英语名词单数变复数的函数，尽可能的考虑多种情况，重新进行实现。\n",
    "\n",
    "练习四：写函数，根据给定符号，上底、下底、高，打印各种梯形。\n",
    "\n",
    "练习五：写函数，根据给定符号，打印各种菱形。\n",
    "\n",
    "练习六：与本小节任务基本相同，但要求打印回文字符倒三角形"
   ]
  },
  {
   "cell_type": "code",
   "execution_count": 10,
   "metadata": {},
   "outputs": [
    {
     "name": "stdout",
     "output_type": "stream",
     "text": [
      "学\n",
      "大\n",
      "言\n",
      "语\n",
      "京\n",
      "北\n"
     ]
    }
   ],
   "source": [
    "!!!#练习一：自己定义一个reverse(s)函数，功能返回字符串s的倒序字符串。\n",
    "def reverse(s):\n",
    "    \n",
    "   \n",
    "    for i in range(0,len(s)):\n",
    "        j=len(s)-i-1\n",
    "        print(s[j])\n",
    "        \n",
    "s='北京语言大学'\n",
    "reverse(s)\n",
    "    "
   ]
  },
  {
   "cell_type": "code",
   "execution_count": 13,
   "metadata": {},
   "outputs": [
    {
     "name": "stdout",
     "output_type": "stream",
     "text": [
      "请输入您想用来制作三角形的符号***\n",
      "请输入您想打印的行数3\n",
      "*\n",
      "**\n",
      "***\n"
     ]
    }
   ],
   "source": [
    "!!!#练习二：写函数，根据给定符号和行数，打印相应直角三角形，等腰三角形及其他形式的三角形。\n",
    "\n",
    "def ratriangle(s):\n",
    "    k=int(input('请输入您想打印的行数'))\n",
    "    for i in range(0,k):\n",
    "        for j in range(0,i+1):\n",
    "            print(s[0],end='')\n",
    "        print()\n",
    "s=input('请输入您想用来制作三角形的符号')\n",
    "ratriangle(s)\n",
    "    "
   ]
  },
  {
   "cell_type": "code",
   "execution_count": 1,
   "metadata": {},
   "outputs": [
    {
     "name": "stdout",
     "output_type": "stream",
     "text": [
      "请输入您想用来打印三角形的行数6\n",
      "     *\n",
      "    ***\n",
      "   *****\n",
      "  *******\n",
      " *********\n",
      "***********\n"
     ]
    }
   ],
   "source": [
    "!!!#等腰三角形\n",
    "def triangle(s):\n",
    "    t=int(input('请输入您想用来打印三角形的行数'))\n",
    "    for i in range(1, t+1):#一共有几行 打印t行要写t+1\n",
    "        for k in range(t-i,0,-1):\n",
    "            print(' ', end='')#打印每行前段的空格\n",
    "        for j in range(1,i*2):#打印每行的符号\n",
    "            print(s[0], end='')\n",
    "        print()\n",
    "triangle(\"*\")"
   ]
  },
  {
   "cell_type": "code",
   "execution_count": 2,
   "metadata": {},
   "outputs": [
    {
     "name": "stdout",
     "output_type": "stream",
     "text": [
      "请输入您想输入的单词，以回车结束car\n",
      "cars\n"
     ]
    }
   ],
   "source": [
    "#练习三：将任务4中的英语名词单数变复数的函数，尽可能的考虑多种情况，重新进行实现。\n",
    "def plur(s):\n",
    "    l=len(s)\n",
    "    if (s.endswith('s') or s.endswith('ch') or s.endswith('sh')):\n",
    "        print(s[:]+'es')\n",
    "        \n",
    "    elif s.endswith('f'):\n",
    "        print(s[0:l]+'ves')\n",
    "        \n",
    "    elif s.endswith('fe'):\n",
    "        print(s[0:-2]+'ves')\n",
    "        \n",
    "    else:\n",
    "        print(s[:]+'s')\n",
    "        \n",
    "s=input('请输入您想输入的单词，以回车结束')\n",
    "plur(s)"
   ]
  },
  {
   "cell_type": "code",
   "execution_count": 2,
   "metadata": {},
   "outputs": [
    {
     "name": "stdout",
     "output_type": "stream",
     "text": [
      "plz input upper line: 4\n",
      "plz input lower line: 10\n",
      "plz input height: 6\n",
      "****\n",
      "*****\n",
      "******\n",
      "*******\n",
      "********\n",
      "*********\n"
     ]
    }
   ],
   "source": [
    "!!!#练习四：写函数，根据给定符号，上底、下底、高，打印各种梯形。\n",
    "def trap(a,b,h):\n",
    "    x=(b-a)//h\n",
    "    for i in range(0,h):\n",
    "        for j in range(0,a):\n",
    "            print ('*',end='')\n",
    "        a+=x\n",
    "        print()\n",
    "def main():\n",
    "    a=int(input('plz input upper line: '))\n",
    "    b=int(input('plz input lower line: '))\n",
    "    h=int(input('plz input height: '))\n",
    "    trap(a,b,h)\n",
    "main()"
   ]
  },
  {
   "cell_type": "code",
   "execution_count": 7,
   "metadata": {},
   "outputs": [
    {
     "name": "stdout",
     "output_type": "stream",
     "text": [
      "请输入您想用来打印梯形的符号，以回车结束*\n",
      "请输入您想打印的梯形的行数，以回车结束 6\n",
      "      \n",
      "     *\n",
      "    ***\n",
      "   *****\n",
      "  *******\n",
      " *********\n",
      "***********\n",
      " *********\n",
      "  *******\n",
      "   *****\n",
      "    ***\n",
      "     *\n",
      "\n"
     ]
    }
   ],
   "source": [
    "!!!#练习五：写函数，根据给定符号，打印各种菱形。\n",
    "def tri(m,n):\n",
    "    for i in range(0, n):\n",
    "        for j in range(0,n-i):           \n",
    "            print(' ',end='')\n",
    "        for k in range(0,2*i-1):\n",
    "            print (m,end='')\n",
    "        print()\n",
    "    for i in range(n,0,-1):\n",
    "        for j in range(0,n-i):           \n",
    "            print(' ',end='')\n",
    "        for k in range(0,2*i-1):\n",
    "            print (m,end='')\n",
    "        print()\n",
    "def main():\n",
    "    sym=input('请输入您想用来打印梯形的符号，以回车结束')\n",
    "    n=int(input('请输入您想打印的梯形的行数，以回车结束 '))\n",
    "    tri(sym,n) \n",
    "    print()\n",
    "\n",
    "main()"
   ]
  },
  {
   "cell_type": "code",
   "execution_count": 3,
   "metadata": {},
   "outputs": [
    {
     "name": "stdout",
     "output_type": "stream",
     "text": [
      "赏花归去马如飞飞如马去归花赏\n",
      " 赏花归去马如飞如马去归花赏\n",
      "  赏花归去马如如马去归花赏\n",
      "   赏花归去马如马去归花赏\n",
      "    赏花归去马马去归花赏\n",
      "     赏花归去马去归花赏\n",
      "      赏花归去去归花赏\n",
      "       赏花归去归花赏\n",
      "        赏花归归花赏\n",
      "         赏花归花赏\n",
      "          赏花花赏\n",
      "           赏花赏\n",
      "            赏赏\n"
     ]
    }
   ],
   "source": [
    "#练习六：与本小节任务基本相同，但要求打印回文字符倒三角形\n",
    "\n",
    "def plalindrome(line):\n",
    "    for i in range( len(line)*2,1,-1):#只改变一下前方i遍历时的顺序，使其倒序即可\n",
    "        if i == 1:\n",
    "            print(' '*(len(line)*2-1) +line[0])\n",
    "        elif i%2 == 1:\n",
    "            print(' '*(len(line)*2-i) + line[:i//2] + line[i//2] + line[i//2-1::-1])\n",
    "        else:\n",
    "            print(' '*(len(line)*2-i) + line[:i//2] + line[i//2-1::-1])\n",
    "\n",
    "def main():\n",
    "    text = '赏花归去马如飞'\n",
    "    plalindrome(text)\n",
    "\n",
    "main()\n"
   ]
  },
  {
   "cell_type": "code",
   "execution_count": 1,
   "metadata": {},
   "outputs": [
    {
     "name": "stdout",
     "output_type": "stream",
     "text": [
      "True\n"
     ]
    }
   ],
   "source": [
    "#回文塔的递归--判断是否是回文序列\n",
    "#coding: utf-8\n",
    "#示例程序9-27\n",
    "\n",
    "def palindrome(seq):\n",
    "    if len(seq) in [0, 1]:\n",
    "        return True\n",
    "    else:\n",
    "        if seq[0] != seq[-1]:\n",
    "            return False\n",
    "        return palindrome(seq[1:-1])\n",
    "        \n",
    "seq = 'abcdedcba'\n",
    "print(palindrome(seq))"
   ]
  },
  {
   "cell_type": "code",
   "execution_count": 2,
   "metadata": {},
   "outputs": [
    {
     "name": "stdout",
     "output_type": "stream",
     "text": [
      "True\n"
     ]
    }
   ],
   "source": [
    "def palindrome(seq):\n",
    "    if len(seq) in [0, 1]:\n",
    "        return True\n",
    "    else:\n",
    "        return False if seq[0] != seq[-1] else palindrome(seq[1:-1])\n",
    "        \n",
    "seq = 'abcdedcba'\n",
    "print(palindrome(seq))"
   ]
  },
  {
   "cell_type": "code",
   "execution_count": 1,
   "metadata": {},
   "outputs": [
    {
     "name": "stdout",
     "output_type": "stream",
     "text": [
      "学大言语京北\n"
     ]
    }
   ],
   "source": [
    "!!!#练习一：自己定义一个reverse(s)函数，功能返回字符串s的倒序字符串。\n",
    "def reverse(s):\n",
    "    \n",
    "   \n",
    "    print(s[::-1])\n",
    "        \n",
    "s='北京语言大学'\n",
    "reverse(s)\n",
    "    "
   ]
  },
  {
   "cell_type": "code",
   "execution_count": null,
   "metadata": {},
   "outputs": [],
   "source": []
  },
  {
   "cell_type": "code",
   "execution_count": null,
   "metadata": {},
   "outputs": [],
   "source": []
  },
  {
   "cell_type": "code",
   "execution_count": null,
   "metadata": {},
   "outputs": [],
   "source": []
  },
  {
   "cell_type": "code",
   "execution_count": null,
   "metadata": {},
   "outputs": [],
   "source": []
  },
  {
   "cell_type": "code",
   "execution_count": null,
   "metadata": {},
   "outputs": [],
   "source": []
  },
  {
   "cell_type": "code",
   "execution_count": null,
   "metadata": {},
   "outputs": [],
   "source": []
  },
  {
   "cell_type": "code",
   "execution_count": null,
   "metadata": {},
   "outputs": [],
   "source": []
  },
  {
   "cell_type": "code",
   "execution_count": null,
   "metadata": {},
   "outputs": [],
   "source": []
  },
  {
   "cell_type": "code",
   "execution_count": null,
   "metadata": {},
   "outputs": [],
   "source": []
  },
  {
   "cell_type": "code",
   "execution_count": null,
   "metadata": {},
   "outputs": [],
   "source": []
  },
  {
   "cell_type": "code",
   "execution_count": null,
   "metadata": {},
   "outputs": [],
   "source": []
  },
  {
   "cell_type": "code",
   "execution_count": null,
   "metadata": {},
   "outputs": [],
   "source": []
  },
  {
   "cell_type": "code",
   "execution_count": null,
   "metadata": {},
   "outputs": [],
   "source": []
  },
  {
   "cell_type": "code",
   "execution_count": null,
   "metadata": {},
   "outputs": [],
   "source": []
  },
  {
   "cell_type": "code",
   "execution_count": null,
   "metadata": {},
   "outputs": [],
   "source": []
  },
  {
   "cell_type": "code",
   "execution_count": null,
   "metadata": {},
   "outputs": [],
   "source": []
  },
  {
   "cell_type": "code",
   "execution_count": null,
   "metadata": {},
   "outputs": [],
   "source": []
  },
  {
   "cell_type": "code",
   "execution_count": null,
   "metadata": {},
   "outputs": [],
   "source": []
  },
  {
   "cell_type": "code",
   "execution_count": null,
   "metadata": {},
   "outputs": [],
   "source": []
  },
  {
   "cell_type": "code",
   "execution_count": null,
   "metadata": {},
   "outputs": [],
   "source": []
  },
  {
   "cell_type": "code",
   "execution_count": null,
   "metadata": {},
   "outputs": [],
   "source": []
  }
 ],
 "metadata": {
  "kernelspec": {
   "display_name": "Python 3",
   "language": "python",
   "name": "python3"
  },
  "language_info": {
   "codemirror_mode": {
    "name": "ipython",
    "version": 3
   },
   "file_extension": ".py",
   "mimetype": "text/x-python",
   "name": "python",
   "nbconvert_exporter": "python",
   "pygments_lexer": "ipython3",
   "version": "3.6.0"
  }
 },
 "nbformat": 4,
 "nbformat_minor": 2
}
