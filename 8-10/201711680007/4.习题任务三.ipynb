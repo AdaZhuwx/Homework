{
 "cells": [
  {
   "cell_type": "markdown",
   "metadata": {},
   "source": [
    "- 写函数，返回一个list中的最大值，最小值，平均值。（不用内置的求和求函数），以[1,2,-1,55,100,899,-10,3,12.5,5.8]为例。\n",
    "- 写函数，返回某个元素/对象在一个list中的位置，如果不在，则返回-1.\n",
    "- 写函数，可将两个相同长度的list，间隔插入，生成新的list。例如：给两个list，a=[1,2,3,4], b=[5,6,7,8]。则可以生成：[1,5,2,6,3,7,4,8]。\n",
    "- 写函数，可求两个向量的夹角余弦值，向量可放在list中。主程序调用该函数。\n",
    "- 挑战性习题：python语言老师为了激励学生学python，自费买了100个完全相同的Macbook Pro，分给三个班级，每个班级至少分5个，用穷举法计算共有多少种分法？"
   ]
  },
  {
   "cell_type": "code",
   "execution_count": 9,
   "metadata": {},
   "outputs": [
    {
     "name": "stdout",
     "output_type": "stream",
     "text": [
      "list中所有数字的和是： 1067.3\n"
     ]
    },
    {
     "data": {
      "text/plain": [
       "-10"
      ]
     },
     "execution_count": 9,
     "metadata": {},
     "output_type": "execute_result"
    }
   ],
   "source": [
    "#- 写函数，返回一个list中的最大值，最小值，平均值。（不用内置的求和求函数），以[1,2,-1,55,100,899,-10,3,12.5,5.8]为例。\n",
    "def rank(list):\n",
    "    i=0\n",
    "    sum=0\n",
    "    while i<len(list):\n",
    "        sum+=list[i]\n",
    "        i+=1\n",
    "        \n",
    "    print('list中所有数字的和是：',sum)\n",
    "    \n",
    "def least(list):\n",
    "    list.sort(reverse=False)\n",
    "    return list[0]\n",
    "    \n",
    "    print('list中最小的是：',list[0])\n",
    "    \n",
    "def biggest(list):\n",
    "    list.sort(reverse=True)\n",
    "    return list[0]\n",
    "    print('list中最大的是：',list[0])\n",
    "    \n",
    "    \n",
    "    \n",
    "    \n",
    "list=[1,2,-1,55,100,899,-10,3,12.5,5.8]\n",
    "\n",
    "rank(list)\n",
    "\n",
    "biggest(list)\n",
    "\n",
    "least(list)"
   ]
  },
  {
   "cell_type": "code",
   "execution_count": 16,
   "metadata": {},
   "outputs": [
    {
     "data": {
      "text/plain": [
       "-1"
      ]
     },
     "execution_count": 16,
     "metadata": {},
     "output_type": "execute_result"
    }
   ],
   "source": [
    "#写函数，返回某个元素/对象在一个list中的位置，如果不在，则返回-1.\n",
    "def find(list):\n",
    "    i=0\n",
    "    vect=0\n",
    "    for i in range(0,10):\n",
    "        if '-3'==list[i]:\n",
    "            return i\n",
    "        else:\n",
    "            return -1\n",
    " \n",
    "list=[1,2,-1,55,100,899,-10,3,12.5,5.8]\n",
    "find(list)"
   ]
  },
  {
   "cell_type": "code",
   "execution_count": 19,
   "metadata": {},
   "outputs": [
    {
     "name": "stdout",
     "output_type": "stream",
     "text": [
      "[1, 5, 2, 6, 3, 7, 4, 8]\n"
     ]
    }
   ],
   "source": [
    "#写函数，可将两个相同长度的list，间隔插入，生成新的list。例如：给两个list，a=[1,2,3,4], b=[5,6,7,8]。则可以生成：[1,5,2,6,3,7,4,8]。\n",
    "def insert(a,b):\n",
    "    list=[]\n",
    "    for i in range(0,4):\n",
    "        for j  in range(0,4):\n",
    "            if a[i] and b[i] not in list:\n",
    "                list.append(a[i])\n",
    "                list.append(b[i])\n",
    "            \n",
    "            \n",
    "        \n",
    "         \n",
    "    return list\n",
    "    \n",
    "a=[1,2,3,4]\n",
    "b=[5,6,7,8]\n",
    "print(insert(a,b))\n"
   ]
  },
  {
   "cell_type": "code",
   "execution_count": 20,
   "metadata": {},
   "outputs": [
    {
     "name": "stdout",
     "output_type": "stream",
     "text": [
      "0.7999999999999998\n"
     ]
    }
   ],
   "source": [
    "#写函数，可求两个向量的夹角余弦值，向量可放在list中。主程序调用该函数。\n",
    "import math\n",
    "def cosvector(x,y):\n",
    "    a=(x[0]*y[0])+(x[1]*y[1])\n",
    "    b=math.sqrt(x[0]**2+x[1]**2) \n",
    "    c=math.sqrt(y[0]**2+y[1]**2)\n",
    "    \n",
    "    con=a/(b*c)\n",
    "    \n",
    "    return con\n",
    "x=[2,1]\n",
    "y=[1,2]\n",
    "\n",
    "print(cosvector(x,y))\n",
    "\n",
    "\n"
   ]
  },
  {
   "cell_type": "code",
   "execution_count": 21,
   "metadata": {},
   "outputs": [
    {
     "name": "stdout",
     "output_type": "stream",
     "text": [
      "3696\n"
     ]
    }
   ],
   "source": [
    "#挑战性习题：python语言老师为了激励学生学python，自费买了100个完全相同的Macbook Pro，分给三个班级，每个班级至少分5个，用穷举法计算共有多少种分法？\n",
    "x=0\n",
    "for i in range(5,86):\n",
    "    for j in range(5,86):\n",
    "        for k in range(5,86):\n",
    "            if (i+j+k)==100:\n",
    "                x+=1\n",
    "                \n",
    "print(x)"
   ]
  },
  {
   "cell_type": "code",
   "execution_count": null,
   "metadata": {},
   "outputs": [],
   "source": []
  },
  {
   "cell_type": "code",
   "execution_count": null,
   "metadata": {},
   "outputs": [],
   "source": []
  },
  {
   "cell_type": "code",
   "execution_count": null,
   "metadata": {},
   "outputs": [],
   "source": []
  },
  {
   "cell_type": "code",
   "execution_count": null,
   "metadata": {},
   "outputs": [],
   "source": []
  },
  {
   "cell_type": "code",
   "execution_count": null,
   "metadata": {},
   "outputs": [],
   "source": []
  },
  {
   "cell_type": "code",
   "execution_count": null,
   "metadata": {},
   "outputs": [],
   "source": []
  },
  {
   "cell_type": "code",
   "execution_count": null,
   "metadata": {},
   "outputs": [],
   "source": []
  },
  {
   "cell_type": "code",
   "execution_count": null,
   "metadata": {},
   "outputs": [],
   "source": []
  },
  {
   "cell_type": "code",
   "execution_count": null,
   "metadata": {},
   "outputs": [],
   "source": []
  },
  {
   "cell_type": "code",
   "execution_count": null,
   "metadata": {},
   "outputs": [],
   "source": []
  },
  {
   "cell_type": "code",
   "execution_count": null,
   "metadata": {},
   "outputs": [],
   "source": []
  },
  {
   "cell_type": "code",
   "execution_count": null,
   "metadata": {},
   "outputs": [],
   "source": []
  },
  {
   "cell_type": "code",
   "execution_count": null,
   "metadata": {},
   "outputs": [],
   "source": []
  },
  {
   "cell_type": "code",
   "execution_count": null,
   "metadata": {},
   "outputs": [],
   "source": []
  },
  {
   "cell_type": "code",
   "execution_count": null,
   "metadata": {},
   "outputs": [],
   "source": []
  },
  {
   "cell_type": "code",
   "execution_count": null,
   "metadata": {},
   "outputs": [],
   "source": []
  }
 ],
 "metadata": {
  "kernelspec": {
   "display_name": "Python 3",
   "language": "python",
   "name": "python3"
  },
  "language_info": {
   "codemirror_mode": {
    "name": "ipython",
    "version": 3
   },
   "file_extension": ".py",
   "mimetype": "text/x-python",
   "name": "python",
   "nbconvert_exporter": "python",
   "pygments_lexer": "ipython3",
   "version": "3.6.0"
  }
 },
 "nbformat": 4,
 "nbformat_minor": 2
}
